{
 "cells": [
  {
   "cell_type": "markdown",
   "metadata": {},
   "source": [
    "# Lab exercise, week 3 - numpy & matplotlib basics\n",
    "\n",
    "Contents:\n",
    "- Overview of numpy arrays\n",
    "- Exercises for numpy\n",
    "- Exercises for plotting"
   ]
  },
  {
   "cell_type": "markdown",
   "metadata": {},
   "source": [
    "## NumPy - overview\n",
    "\n",
    "Python lists are somewhat weird creatures. In contrast to basic array types in other languages like C# and Java, they can hold objects of different types and new elements can be inserted in the middle. NumPy arrays are much more like C# arrays - all elements have the same type."
   ]
  },
  {
   "cell_type": "code",
   "execution_count": 3,
   "metadata": {},
   "outputs": [],
   "source": [
    "# by convention numpy is always imported as np\n",
    "import numpy as np"
   ]
  },
  {
   "cell_type": "markdown",
   "metadata": {},
   "source": [
    "### Common ways of creating numpy arrays"
   ]
  },
  {
   "cell_type": "code",
   "execution_count": 4,
   "metadata": {},
   "outputs": [
    {
     "data": {
      "text/plain": [
       "array([ 5,  2, 17])"
      ]
     },
     "execution_count": 4,
     "metadata": {},
     "output_type": "execute_result"
    }
   ],
   "source": [
    "a = np.array([5, 2, 17])  # Convert a Python list into a numpy array\n",
    "a"
   ]
  },
  {
   "cell_type": "code",
   "execution_count": 5,
   "metadata": {},
   "outputs": [
    {
     "data": {
      "text/plain": [
       "array([[5, 7, 2],\n",
       "       [9, 4, 1]])"
      ]
     },
     "execution_count": 5,
     "metadata": {},
     "output_type": "execute_result"
    }
   ],
   "source": [
    "# List of lists gets converted into a 2D array\n",
    "np.array([[5, 7, 2],\n",
    "          [9, 4, 1]])\n"
   ]
  },
  {
   "cell_type": "code",
   "execution_count": 6,
   "metadata": {},
   "outputs": [
    {
     "data": {
      "text/plain": [
       "array([0, 1, 2, 3, 4])"
      ]
     },
     "execution_count": 6,
     "metadata": {},
     "output_type": "execute_result"
    }
   ],
   "source": [
    "np.arange(5)  # Same as Python's range() but creates a numpy array"
   ]
  },
  {
   "cell_type": "code",
   "execution_count": 7,
   "metadata": {},
   "outputs": [
    {
     "data": {
      "text/plain": [
       "array([0., 0., 0., 0., 0.])"
      ]
     },
     "execution_count": 7,
     "metadata": {},
     "output_type": "execute_result"
    }
   ],
   "source": [
    "np.zeros(5)  # Create a numpy array with five elements, all set to zero"
   ]
  },
  {
   "cell_type": "code",
   "execution_count": 8,
   "metadata": {},
   "outputs": [
    {
     "data": {
      "text/plain": [
       "array([1., 1., 1., 1., 1., 1., 1.])"
      ]
     },
     "execution_count": 8,
     "metadata": {},
     "output_type": "execute_result"
    }
   ],
   "source": [
    "c = np.ones(7)  # Create a numpy array with five elements, all set to 1\n",
    "c\n"
   ]
  },
  {
   "cell_type": "code",
   "execution_count": 9,
   "metadata": {},
   "outputs": [
    {
     "data": {
      "text/plain": [
       "array([0.46472625, 0.92001849, 0.0384455 , 0.27721523, 0.85134953,\n",
       "       0.98215309])"
      ]
     },
     "execution_count": 9,
     "metadata": {},
     "output_type": "execute_result"
    }
   ],
   "source": [
    "# Array of 6 random numbers between 0 and 1\n",
    "np.random.rand(6)"
   ]
  },
  {
   "cell_type": "code",
   "execution_count": 10,
   "metadata": {},
   "outputs": [
    {
     "data": {
      "text/plain": [
       "array([38, 54,  2, 41, 70, 67])"
      ]
     },
     "execution_count": 10,
     "metadata": {},
     "output_type": "execute_result"
    }
   ],
   "source": [
    "# array with 6 random integers between 0 and 100 (not including 100 as usual)\n",
    "np.random.randint(100, size=6)"
   ]
  },
  {
   "cell_type": "markdown",
   "metadata": {},
   "source": [
    "### Array properties"
   ]
  },
  {
   "cell_type": "code",
   "execution_count": 11,
   "metadata": {},
   "outputs": [
    {
     "data": {
      "text/plain": [
       "array([[5, 7, 2],\n",
       "       [9, 4, 1]])"
      ]
     },
     "execution_count": 11,
     "metadata": {},
     "output_type": "execute_result"
    }
   ],
   "source": [
    "b = np.array([[5, 7, 2],\n",
    "              [9, 4, 1]])\n",
    "b"
   ]
  },
  {
   "cell_type": "code",
   "execution_count": 12,
   "metadata": {},
   "outputs": [
    {
     "data": {
      "text/plain": [
       "dtype('int64')"
      ]
     },
     "execution_count": 12,
     "metadata": {},
     "output_type": "execute_result"
    }
   ],
   "source": [
    "# Data type of the array\n",
    "a.dtype"
   ]
  },
  {
   "cell_type": "code",
   "execution_count": 13,
   "metadata": {},
   "outputs": [
    {
     "data": {
      "text/plain": [
       "2"
      ]
     },
     "execution_count": 13,
     "metadata": {},
     "output_type": "execute_result"
    }
   ],
   "source": [
    "# number of dimensions\n",
    "b.ndim "
   ]
  },
  {
   "cell_type": "code",
   "execution_count": 14,
   "metadata": {},
   "outputs": [
    {
     "data": {
      "text/plain": [
       "(2, 3)"
      ]
     },
     "execution_count": 14,
     "metadata": {},
     "output_type": "execute_result"
    }
   ],
   "source": [
    "# array shape is a Python tuple, in this case it's (2, 3) because b is a 2 by 3 array.\n",
    "b.shape"
   ]
  },
  {
   "cell_type": "code",
   "execution_count": 15,
   "metadata": {},
   "outputs": [
    {
     "data": {
      "text/plain": [
       "6"
      ]
     },
     "execution_count": 15,
     "metadata": {},
     "output_type": "execute_result"
    }
   ],
   "source": [
    "# The total number of elements\n",
    "b.size "
   ]
  },
  {
   "cell_type": "code",
   "execution_count": 16,
   "metadata": {},
   "outputs": [
    {
     "data": {
      "text/plain": [
       "dtype('float64')"
      ]
     },
     "execution_count": 16,
     "metadata": {},
     "output_type": "execute_result"
    }
   ],
   "source": [
    "# Note that zeros byt default uses the float64 data type\n",
    "z = np.zeros(7)\n",
    "z.dtype"
   ]
  },
  {
   "cell_type": "code",
   "execution_count": 17,
   "metadata": {},
   "outputs": [
    {
     "data": {
      "text/plain": [
       "dtype('int8')"
      ]
     },
     "execution_count": 17,
     "metadata": {},
     "output_type": "execute_result"
    }
   ],
   "source": [
    "# But data type can be set explicitly, almost all numpy functions that create arrays take an optional dtype parameter\n",
    "# Let's set it to an 8 bit integer\n",
    "z = np.zeros(7, dtype=np.int8)  \n",
    "z.dtype"
   ]
  },
  {
   "cell_type": "markdown",
   "metadata": {},
   "source": [
    "## Exercises\n",
    "\n",
    "Read section 2.2 of the book (The Basics of NumPy Arrays) and complete the tasks below.\n"
   ]
  },
  {
   "cell_type": "markdown",
   "metadata": {},
   "source": [
    "### Numpy Array Creation"
   ]
  },
  {
   "cell_type": "markdown",
   "metadata": {},
   "source": [
    "##### Convert a list into a numpy array"
   ]
  },
  {
   "cell_type": "code",
   "execution_count": 18,
   "metadata": {},
   "outputs": [
    {
     "data": {
      "text/plain": [
       "array([5, 3, 8, 4])"
      ]
     },
     "execution_count": 18,
     "metadata": {},
     "output_type": "execute_result"
    }
   ],
   "source": [
    "lst = [5, 3, 8, 4]\n",
    "lst = np.array(lst)\n",
    "lst"
   ]
  },
  {
   "cell_type": "code",
   "execution_count": 19,
   "metadata": {},
   "outputs": [
    {
     "data": {
      "text/plain": [
       "array([1, 2, 3, 4])"
      ]
     },
     "execution_count": 19,
     "metadata": {},
     "output_type": "execute_result"
    }
   ],
   "source": [
    "# your code here\n",
    "x = np.array([1, 2, 3, 4])\n",
    "x"
   ]
  },
  {
   "cell_type": "markdown",
   "metadata": {},
   "source": [
    "#### What happens when you multiply a list by 3, what a about an array multiplied by 3?"
   ]
  },
  {
   "cell_type": "code",
   "execution_count": 20,
   "metadata": {},
   "outputs": [
    {
     "name": "stdout",
     "output_type": "stream",
     "text": [
      "[1, 2, 3, 4, 1, 2, 3, 4, 1, 2, 3, 4]\n",
      "[ 3  6  9 12]\n"
     ]
    }
   ],
   "source": [
    "# Feel free to add more cells\n",
    "lst = [1, 2, 3, 4]\n",
    "print(lst * 3)\n",
    "lst = np.array(lst)\n",
    "print(lst * 3)"
   ]
  },
  {
   "cell_type": "markdown",
   "metadata": {},
   "source": [
    "#### Create an array of 10 ones [1, 1, 1, ... ]"
   ]
  },
  {
   "cell_type": "code",
   "execution_count": 21,
   "metadata": {},
   "outputs": [
    {
     "data": {
      "text/plain": [
       "array([1., 1., 1., 1., 1., 1., 1., 1., 1., 1.])"
      ]
     },
     "execution_count": 21,
     "metadata": {},
     "output_type": "execute_result"
    }
   ],
   "source": [
    "ones = np.ones(10)\n",
    "ones"
   ]
  },
  {
   "cell_type": "markdown",
   "metadata": {},
   "source": [
    "#### Create an array of 10 fives [5, 5, 5, .... ]"
   ]
  },
  {
   "cell_type": "code",
   "execution_count": 22,
   "metadata": {},
   "outputs": [
    {
     "data": {
      "text/plain": [
       "array([5, 5, 5, 5, 5, 5, 5, 5, 5, 5])"
      ]
     },
     "execution_count": 22,
     "metadata": {},
     "output_type": "execute_result"
    }
   ],
   "source": [
    "fives = np.full(10, 5)\n",
    "fives"
   ]
  },
  {
   "cell_type": "markdown",
   "metadata": {},
   "source": [
    "#### Create an array of the integers from 10 to 50 (including 50)"
   ]
  },
  {
   "cell_type": "code",
   "execution_count": 23,
   "metadata": {},
   "outputs": [
    {
     "data": {
      "text/plain": [
       "array([10, 11, 12, 13, 14, 15, 16, 17, 18, 19, 20, 21, 22, 23, 24, 25, 26,\n",
       "       27, 28, 29, 30, 31, 32, 33, 34, 35, 36, 37, 38, 39, 40, 41, 42, 43,\n",
       "       44, 45, 46, 47, 48, 49, 50])"
      ]
     },
     "execution_count": 23,
     "metadata": {},
     "output_type": "execute_result"
    }
   ],
   "source": [
    "range_lst = np.arange(10, 51)\n",
    "range_lst"
   ]
  },
  {
   "cell_type": "markdown",
   "metadata": {},
   "source": [
    "#### Create an array of 10 random numbers between 0 and 5"
   ]
  },
  {
   "cell_type": "code",
   "execution_count": 24,
   "metadata": {},
   "outputs": [
    {
     "data": {
      "text/plain": [
       "array([0, 0, 2, 1, 3, 3, 3, 0, 2, 0])"
      ]
     },
     "execution_count": 24,
     "metadata": {},
     "output_type": "execute_result"
    }
   ],
   "source": [
    "rand_lst = np.random.randint(0, 5, 10)\n",
    "rand_lst"
   ]
  },
  {
   "cell_type": "markdown",
   "metadata": {},
   "source": [
    "#### Read the help for np.linspace function and create an array of 11 evenly spaced elements between 0 and 2\n",
    "use `np.linspace?` or `?np.linspace` to show the help"
   ]
  },
  {
   "cell_type": "code",
   "execution_count": 25,
   "metadata": {},
   "outputs": [
    {
     "data": {
      "text/plain": [
       "array([0. , 0.2, 0.4, 0.6, 0.8, 1. , 1.2, 1.4, 1.6, 1.8, 2. ])"
      ]
     },
     "execution_count": 25,
     "metadata": {},
     "output_type": "execute_result"
    }
   ],
   "source": [
    "evenly_spaced = np.linspace(0, 2, num=11)\n",
    "evenly_spaced"
   ]
  },
  {
   "cell_type": "markdown",
   "metadata": {},
   "source": [
    "#### Create a 3 by 4 array of ones"
   ]
  },
  {
   "cell_type": "code",
   "execution_count": 26,
   "metadata": {},
   "outputs": [
    {
     "data": {
      "text/plain": [
       "array([[1., 1., 1., 1.],\n",
       "       [1., 1., 1., 1.],\n",
       "       [1., 1., 1., 1.]])"
      ]
     },
     "execution_count": 26,
     "metadata": {},
     "output_type": "execute_result"
    }
   ],
   "source": [
    "one_matrix = np.ones((3, 4))\n",
    "one_matrix"
   ]
  },
  {
   "cell_type": "markdown",
   "metadata": {},
   "source": [
    "#### Create a 3 by 4 array of fives"
   ]
  },
  {
   "cell_type": "code",
   "execution_count": 27,
   "metadata": {},
   "outputs": [
    {
     "data": {
      "text/plain": [
       "array([[5, 5, 5, 5],\n",
       "       [5, 5, 5, 5],\n",
       "       [5, 5, 5, 5]])"
      ]
     },
     "execution_count": 27,
     "metadata": {},
     "output_type": "execute_result"
    }
   ],
   "source": [
    "five_matrix = np.full((3, 4), 5)\n",
    "five_matrix"
   ]
  },
  {
   "cell_type": "markdown",
   "metadata": {},
   "source": [
    "### Array Indexing\n",
    "Using the following arrays `a` and `m` for the questions below"
   ]
  },
  {
   "cell_type": "code",
   "execution_count": 28,
   "metadata": {},
   "outputs": [
    {
     "data": {
      "text/plain": [
       "array([10, 11, 12, 13, 14, 15, 16, 17, 18, 19, 20])"
      ]
     },
     "execution_count": 28,
     "metadata": {},
     "output_type": "execute_result"
    }
   ],
   "source": [
    "a = np.arange(10,21)\n",
    "a"
   ]
  },
  {
   "cell_type": "code",
   "execution_count": 29,
   "metadata": {},
   "outputs": [
    {
     "data": {
      "text/plain": [
       "array([[ 1,  2,  3,  4,  5,  6,  7],\n",
       "       [ 8,  9, 10, 11, 12, 13, 14],\n",
       "       [15, 16, 17, 18, 19, 20, 21]])"
      ]
     },
     "execution_count": 29,
     "metadata": {},
     "output_type": "execute_result"
    }
   ],
   "source": [
    "m = np.arange(1,22).reshape((3,7))\n",
    "m"
   ]
  },
  {
   "cell_type": "markdown",
   "metadata": {},
   "source": [
    "### Create an array containing... \n",
    "#### the first 4 elements of a"
   ]
  },
  {
   "cell_type": "code",
   "execution_count": 30,
   "metadata": {},
   "outputs": [
    {
     "data": {
      "text/plain": [
       "array([10, 11, 12, 13])"
      ]
     },
     "execution_count": 30,
     "metadata": {},
     "output_type": "execute_result"
    }
   ],
   "source": [
    "first_four = a[0:4]\n",
    "first_four"
   ]
  },
  {
   "cell_type": "markdown",
   "metadata": {},
   "source": [
    "#### the last 3 elements of a"
   ]
  },
  {
   "cell_type": "code",
   "execution_count": 31,
   "metadata": {},
   "outputs": [
    {
     "data": {
      "text/plain": [
       "array([18, 19, 20])"
      ]
     },
     "execution_count": 31,
     "metadata": {},
     "output_type": "execute_result"
    }
   ],
   "source": [
    "last_three = a[-3:]\n",
    "last_three"
   ]
  },
  {
   "cell_type": "markdown",
   "metadata": {},
   "source": [
    "#### The middle elements of a from 15 to 18 inclusive"
   ]
  },
  {
   "cell_type": "code",
   "execution_count": 32,
   "metadata": {},
   "outputs": [
    {
     "data": {
      "text/plain": [
       "array([15, 16, 17, 18])"
      ]
     },
     "execution_count": 32,
     "metadata": {},
     "output_type": "execute_result"
    }
   ],
   "source": [
    "middle_elements = a[5:9]\n",
    "middle_elements"
   ]
  },
  {
   "cell_type": "markdown",
   "metadata": {},
   "source": [
    "#### The first column of m"
   ]
  },
  {
   "cell_type": "code",
   "execution_count": 33,
   "metadata": {},
   "outputs": [
    {
     "data": {
      "text/plain": [
       "array([ 1,  8, 15])"
      ]
     },
     "execution_count": 33,
     "metadata": {},
     "output_type": "execute_result"
    }
   ],
   "source": [
    "first_col = m[:, 0]\n",
    "first_col"
   ]
  },
  {
   "cell_type": "markdown",
   "metadata": {},
   "source": [
    "#### The middle row of m"
   ]
  },
  {
   "cell_type": "code",
   "execution_count": 34,
   "metadata": {},
   "outputs": [
    {
     "data": {
      "text/plain": [
       "array([ 8,  9, 10, 11, 12, 13, 14])"
      ]
     },
     "execution_count": 34,
     "metadata": {},
     "output_type": "execute_result"
    }
   ],
   "source": [
    "middle_row = m[1]\n",
    "middle_row"
   ]
  },
  {
   "cell_type": "markdown",
   "metadata": {},
   "source": [
    "#### The left 3 columns of m"
   ]
  },
  {
   "cell_type": "code",
   "execution_count": 35,
   "metadata": {},
   "outputs": [
    {
     "data": {
      "text/plain": [
       "array([[ 1,  2,  3],\n",
       "       [ 8,  9, 10],\n",
       "       [15, 16, 17]])"
      ]
     },
     "execution_count": 35,
     "metadata": {},
     "output_type": "execute_result"
    }
   ],
   "source": [
    "left_three = m[:, 0:3]\n",
    "left_three"
   ]
  },
  {
   "cell_type": "markdown",
   "metadata": {},
   "source": [
    "#### The bottom-right 2 by 2 square"
   ]
  },
  {
   "cell_type": "code",
   "execution_count": 36,
   "metadata": {},
   "outputs": [
    {
     "data": {
      "text/plain": [
       "array([[13, 14],\n",
       "       [20, 21]])"
      ]
     },
     "execution_count": 36,
     "metadata": {},
     "output_type": "execute_result"
    }
   ],
   "source": [
    "bottom_right = m[-2:, -2:]\n",
    "bottom_right"
   ]
  },
  {
   "cell_type": "markdown",
   "metadata": {},
   "source": [
    "#### Print every other element of a\n",
    "Hint: use slicing with a step (`array[start:stop:step]`)"
   ]
  },
  {
   "cell_type": "code",
   "execution_count": 37,
   "metadata": {},
   "outputs": [
    {
     "data": {
      "text/plain": [
       "array([10, 12, 14, 16, 18, 20])"
      ]
     },
     "execution_count": 37,
     "metadata": {},
     "output_type": "execute_result"
    }
   ],
   "source": [
    "every_other = a[::2]\n",
    "every_other"
   ]
  },
  {
   "cell_type": "markdown",
   "metadata": {},
   "source": [
    "#### Print the `even` elements of a\n",
    "Hint: use boolean indexing"
   ]
  },
  {
   "cell_type": "code",
   "execution_count": 38,
   "metadata": {},
   "outputs": [
    {
     "data": {
      "text/plain": [
       "array([10, 12, 14, 16, 18, 20])"
      ]
     },
     "execution_count": 38,
     "metadata": {},
     "output_type": "execute_result"
    }
   ],
   "source": [
    "even_elements = a[a % 2 == 0]\n",
    "even_elements"
   ]
  },
  {
   "cell_type": "markdown",
   "metadata": {},
   "source": [
    "### Array Math"
   ]
  },
  {
   "cell_type": "markdown",
   "metadata": {},
   "source": [
    "#### Subtract 5 from each element of a"
   ]
  },
  {
   "cell_type": "code",
   "execution_count": 39,
   "metadata": {},
   "outputs": [
    {
     "data": {
      "text/plain": [
       "array([ 5,  6,  7,  8,  9, 10, 11, 12, 13, 14, 15])"
      ]
     },
     "execution_count": 39,
     "metadata": {},
     "output_type": "execute_result"
    }
   ],
   "source": [
    "minus_five = a - 5\n",
    "minus_five"
   ]
  },
  {
   "cell_type": "markdown",
   "metadata": {},
   "source": [
    "#### Calculate the `sum` of all the elements in a"
   ]
  },
  {
   "cell_type": "code",
   "execution_count": 40,
   "metadata": {},
   "outputs": [
    {
     "data": {
      "text/plain": [
       "np.int64(165)"
      ]
     },
     "execution_count": 40,
     "metadata": {},
     "output_type": "execute_result"
    }
   ],
   "source": [
    "a_sum = a.sum()\n",
    "a_sum"
   ]
  },
  {
   "cell_type": "markdown",
   "metadata": {},
   "source": [
    "#### Calculate the sum of each column and each row in `m`\n",
    "Hint: use the `axis` argument of the `sum` method"
   ]
  },
  {
   "cell_type": "code",
   "execution_count": 41,
   "metadata": {},
   "outputs": [
    {
     "name": "stdout",
     "output_type": "stream",
     "text": [
      "[24 27 30 33 36 39 42]\n",
      "[ 28  77 126]\n"
     ]
    }
   ],
   "source": [
    "column_sum = m.sum(axis=0)\n",
    "row_sum = m.sum(axis=1)\n",
    "print(column_sum)\n",
    "print(row_sum)"
   ]
  },
  {
   "cell_type": "markdown",
   "metadata": {},
   "source": [
    "#### Create an array containing squares of all numbers from 1 to 10 (inclusive)"
   ]
  },
  {
   "cell_type": "code",
   "execution_count": 42,
   "metadata": {},
   "outputs": [
    {
     "data": {
      "text/plain": [
       "array([  1,   4,   9,  16,  25,  36,  49,  64,  81, 100])"
      ]
     },
     "execution_count": 42,
     "metadata": {},
     "output_type": "execute_result"
    }
   ],
   "source": [
    "squares = np.arange(1, 11) * np.arange(1, 11)\n",
    "squares"
   ]
  },
  {
   "cell_type": "markdown",
   "metadata": {},
   "source": [
    "#### Create an array containing all powers of 2 from $2^0$ to $2^{10}$ (inclusive)"
   ]
  },
  {
   "cell_type": "code",
   "execution_count": 43,
   "metadata": {},
   "outputs": [
    {
     "data": {
      "text/plain": [
       "array([   1,    2,    4,    8,   16,   32,   64,  128,  256,  512, 1024])"
      ]
     },
     "execution_count": 43,
     "metadata": {},
     "output_type": "execute_result"
    }
   ],
   "source": [
    "powers = 2 ** np.arange(0, 11)\n",
    "powers"
   ]
  },
  {
   "cell_type": "markdown",
   "metadata": {},
   "source": [
    "#### Same as above (powers of two), but subtract one from each element, that is $a_k = 2^k - 1$"
   ]
  },
  {
   "cell_type": "code",
   "execution_count": 44,
   "metadata": {},
   "outputs": [
    {
     "data": {
      "text/plain": [
       "array([   0,    1,    3,    7,   15,   31,   63,  127,  255,  511, 1023])"
      ]
     },
     "execution_count": 44,
     "metadata": {},
     "output_type": "execute_result"
    }
   ],
   "source": [
    "powers_minus = 2 ** np.arange(0, 11) - 1\n",
    "powers_minus"
   ]
  },
  {
   "cell_type": "markdown",
   "metadata": {},
   "source": [
    "## Plotting Basics\n",
    " - Use [this tutorial](https://matplotlib.org/users/pyplot_tutorial.html) as reference when (if) you get stuck\n",
    " - Execute the cells with imports, otherwise you won't have numpy and matplotlib imported and Python will complain"
   ]
  },
  {
   "cell_type": "code",
   "execution_count": 45,
   "metadata": {},
   "outputs": [],
   "source": [
    "import numpy as np\n",
    "import matplotlib.pyplot as plt"
   ]
  },
  {
   "cell_type": "code",
   "execution_count": 46,
   "metadata": {},
   "outputs": [],
   "source": [
    "# Load weather data (take a look at that CSV file on GitHub or via Excel and note column names)\n",
    "weather = np.loadtxt(\"OshawaWeather2016.csv\", skiprows=1, delimiter=',')"
   ]
  },
  {
   "cell_type": "code",
   "execution_count": 47,
   "metadata": {},
   "outputs": [
    {
     "data": {
      "text/plain": [
       "(349, 5)"
      ]
     },
     "execution_count": 47,
     "metadata": {},
     "output_type": "execute_result"
    }
   ],
   "source": [
    "weather.shape"
   ]
  },
  {
   "cell_type": "code",
   "execution_count": 48,
   "metadata": {},
   "outputs": [
    {
     "data": {
      "text/plain": [
       "dtype('float64')"
      ]
     },
     "execution_count": 48,
     "metadata": {},
     "output_type": "execute_result"
    }
   ],
   "source": [
    "weather.dtype"
   ]
  },
  {
   "cell_type": "markdown",
   "metadata": {},
   "source": [
    "#### Crate separate 1D arrays for each column (e.g: day, maxt, mint and so on)"
   ]
  },
  {
   "cell_type": "code",
   "execution_count": 49,
   "metadata": {},
   "outputs": [],
   "source": [
    "# your code here\n",
    "# column name in csv file: Day,Max Temp (°C),Min Temp (°C),Mean Temp (°C),Total Precip (mm)\n",
    "# day = weather[???]\n",
    "weather\n",
    "day = weather[:,0]\n",
    "maxt = weather[:,1]\n",
    "mint = weather[:,2]\n",
    "meant = weather[:,3]\n",
    "total_precip = weather[:,4]"
   ]
  },
  {
   "cell_type": "markdown",
   "metadata": {},
   "source": [
    "#### Plot the minimum temperature as a function of day number"
   ]
  },
  {
   "cell_type": "code",
   "execution_count": 50,
   "metadata": {},
   "outputs": [
    {
     "data": {
      "text/plain": [
       "[<matplotlib.lines.Line2D at 0x10ec65090>]"
      ]
     },
     "execution_count": 50,
     "metadata": {},
     "output_type": "execute_result"
    },
    {
     "data": {
      "image/png": "[encoded data removed]",
      "text/plain": [
       "<Figure size 640x480 with 1 Axes>"
      ]
     },
     "metadata": {},
     "output_type": "display_data"
    }
   ],
   "source": [
    "plt.plot(day, mint)"
   ]
  },
  {
   "cell_type": "markdown",
   "metadata": {},
   "source": [
    "#### Plot the max temperature in degrees Fahrenheit"
   ]
  },
  {
   "cell_type": "code",
   "execution_count": 51,
   "metadata": {},
   "outputs": [
    {
     "data": {
      "text/plain": [
       "[<matplotlib.lines.Line2D at 0x10ef7d6d0>]"
      ]
     },
     "execution_count": 51,
     "metadata": {},
     "output_type": "execute_result"
    },
    {
     "data": {
      "image/png": "[encoded data removed]",
      "text/plain": [
       "<Figure size 640x480 with 1 Axes>"
      ]
     },
     "metadata": {},
     "output_type": "display_data"
    }
   ],
   "source": [
    "plt.plot(day, maxt * 9 / 5 + 32)"
   ]
  },
  {
   "cell_type": "markdown",
   "metadata": {},
   "source": [
    "#### Plot the difference between the maximum and the minimum day temperature as a function of day number"
   ]
  },
  {
   "cell_type": "code",
   "execution_count": 52,
   "metadata": {},
   "outputs": [
    {
     "data": {
      "text/plain": [
       "[<matplotlib.lines.Line2D at 0x10f800e10>]"
      ]
     },
     "execution_count": 52,
     "metadata": {},
     "output_type": "execute_result"
    },
    {
     "data": {
      "image/png": "[encoded data removed]",
      "text/plain": [
       "<Figure size 640x480 with 1 Axes>"
      ]
     },
     "metadata": {},
     "output_type": "display_data"
    }
   ],
   "source": [
    "plt.plot(day, maxt - mint)"
   ]
  },
  {
   "cell_type": "markdown",
   "metadata": {},
   "source": [
    "#### Plot both, the minimum and maximum temperature on the same figure"
   ]
  },
  {
   "cell_type": "code",
   "execution_count": 53,
   "metadata": {},
   "outputs": [
    {
     "data": {
      "text/plain": [
       "<matplotlib.legend.Legend at 0x10ec23e00>"
      ]
     },
     "execution_count": 53,
     "metadata": {},
     "output_type": "execute_result"
    },
    {
     "data": {
      "image/png": "[encoded data removed]",
      "text/plain": [
       "<Figure size 640x480 with 1 Axes>"
      ]
     },
     "metadata": {},
     "output_type": "display_data"
    }
   ],
   "source": [
    "plt.plot(day, mint, maxt)\n",
    "plt.xlabel('Day')\n",
    "plt.ylabel('Temperature')\n",
    "plt.title('Minimum and Maximum Temperature per Day')\n",
    "plt.legend(['Min Temp', 'Max Temp'])"
   ]
  },
  {
   "cell_type": "markdown",
   "metadata": {},
   "source": [
    "#### Add axis labels and a legend to the plot above\n",
    "Use the following functions:\n",
    " - plt.xlabel\n",
    " - plt.ylabel\n",
    " - plt.title\n",
    " - plt.legend"
   ]
  },
  {
   "cell_type": "markdown",
   "metadata": {},
   "source": [
    "#### Read about plt.hist() function and plot a histogram of the maximum temperatures"
   ]
  },
  {
   "cell_type": "code",
   "execution_count": 54,
   "metadata": {},
   "outputs": [
    {
     "name": "stdout",
     "output_type": "stream",
     "text": [
      "\u001b[31mSignature:\u001b[39m\n",
      "plt.hist(\n",
      "    x: \u001b[33m'ArrayLike | Sequence[ArrayLike]'\u001b[39m,\n",
      "    bins: \u001b[33m'int | Sequence[float] | str | None'\u001b[39m = \u001b[38;5;28;01mNone\u001b[39;00m,\n",
      "    *,\n",
      "    range: \u001b[33m'tuple[float, float] | None'\u001b[39m = \u001b[38;5;28;01mNone\u001b[39;00m,\n",
      "    density: \u001b[33m'bool'\u001b[39m = \u001b[38;5;28;01mFalse\u001b[39;00m,\n",
      "    weights: \u001b[33m'ArrayLike | None'\u001b[39m = \u001b[38;5;28;01mNone\u001b[39;00m,\n",
      "    cumulative: \u001b[33m'bool | float'\u001b[39m = \u001b[38;5;28;01mFalse\u001b[39;00m,\n",
      "    bottom: \u001b[33m'ArrayLike | float | None'\u001b[39m = \u001b[38;5;28;01mNone\u001b[39;00m,\n",
      "    histtype: \u001b[33m\"Literal['bar', 'barstacked', 'step', 'stepfilled']\"\u001b[39m = \u001b[33m'bar'\u001b[39m,\n",
      "    align: \u001b[33m\"Literal['left', 'mid', 'right']\"\u001b[39m = \u001b[33m'mid'\u001b[39m,\n",
      "    orientation: \u001b[33m\"Literal['vertical', 'horizontal']\"\u001b[39m = \u001b[33m'vertical'\u001b[39m,\n",
      "    rwidth: \u001b[33m'float | None'\u001b[39m = \u001b[38;5;28;01mNone\u001b[39;00m,\n",
      "    log: \u001b[33m'bool'\u001b[39m = \u001b[38;5;28;01mFalse\u001b[39;00m,\n",
      "    color: \u001b[33m'ColorType | Sequence[ColorType] | None'\u001b[39m = \u001b[38;5;28;01mNone\u001b[39;00m,\n",
      "    label: \u001b[33m'str | Sequence[str] | None'\u001b[39m = \u001b[38;5;28;01mNone\u001b[39;00m,\n",
      "    stacked: \u001b[33m'bool'\u001b[39m = \u001b[38;5;28;01mFalse\u001b[39;00m,\n",
      "    data=\u001b[38;5;28;01mNone\u001b[39;00m,\n",
      "    **kwargs,\n",
      ") -> \u001b[33m'tuple[np.ndarray | list[np.ndarray], np.ndarray, BarContainer | Polygon | list[BarContainer | Polygon]]'\u001b[39m\n",
      "\u001b[31mDocstring:\u001b[39m\n",
      "Compute and plot a histogram.\n",
      "\n",
      "This method uses `numpy.histogram` to bin the data in *x* and count the\n",
      "number of values in each bin, then draws the distribution either as a\n",
      "`.BarContainer` or `.Polygon`. The *bins*, *range*, *density*, and\n",
      "*weights* parameters are forwarded to `numpy.histogram`.\n",
      "\n",
      "If the data has already been binned and counted, use `~.bar` or\n",
      "`~.stairs` to plot the distribution::\n",
      "\n",
      "    counts, bins = np.histogram(x)\n",
      "    plt.stairs(counts, bins)\n",
      "\n",
      "Alternatively, plot pre-computed bins and counts using ``hist()`` by\n",
      "treating each bin as a single point with a weight equal to its count::\n",
      "\n",
      "    plt.hist(bins[:-1], bins, weights=counts)\n",
      "\n",
      "The data input *x* can be a singular array, a list of datasets of\n",
      "potentially different lengths ([*x0*, *x1*, ...]), or a 2D ndarray in\n",
      "which each column is a dataset. Note that the ndarray form is\n",
      "transposed relative to the list form. If the input is an array, then\n",
      "the return value is a tuple (*n*, *bins*, *patches*); if the input is a\n",
      "sequence of arrays, then the return value is a tuple\n",
      "([*n0*, *n1*, ...], *bins*, [*patches0*, *patches1*, ...]).\n",
      "\n",
      "Masked arrays are not supported.\n",
      "\n",
      "Parameters\n",
      "----------\n",
      "x : (n,) array or sequence of (n,) arrays\n",
      "    Input values, this takes either a single array or a sequence of\n",
      "    arrays which are not required to be of the same length.\n",
      "\n",
      "bins : int or sequence or str, default: :rc:`hist.bins`\n",
      "    If *bins* is an integer, it defines the number of equal-width bins\n",
      "    in the range.\n",
      "\n",
      "    If *bins* is a sequence, it defines the bin edges, including the\n",
      "    left edge of the first bin and the right edge of the last bin;\n",
      "    in this case, bins may be unequally spaced.  All but the last\n",
      "    (righthand-most) bin is half-open.  In other words, if *bins* is::\n",
      "\n",
      "        [1, 2, 3, 4]\n",
      "\n",
      "    then the first bin is ``[1, 2)`` (including 1, but excluding 2) and\n",
      "    the second ``[2, 3)``.  The last bin, however, is ``[3, 4]``, which\n",
      "    *includes* 4.\n",
      "\n",
      "    If *bins* is a string, it is one of the binning strategies\n",
      "    supported by `numpy.histogram_bin_edges`: 'auto', 'fd', 'doane',\n",
      "    'scott', 'stone', 'rice', 'sturges', or 'sqrt'.\n",
      "\n",
      "range : tuple or None, default: None\n",
      "    The lower and upper range of the bins. Lower and upper outliers\n",
      "    are ignored. If not provided, *range* is ``(x.min(), x.max())``.\n",
      "    Range has no effect if *bins* is a sequence.\n",
      "\n",
      "    If *bins* is a sequence or *range* is specified, autoscaling\n",
      "    is based on the specified bin range instead of the\n",
      "    range of x.\n",
      "\n",
      "density : bool, default: False\n",
      "    If ``True``, draw and return a probability density: each bin\n",
      "    will display the bin's raw count divided by the total number of\n",
      "    counts *and the bin width*\n",
      "    (``density = counts / (sum(counts) * np.diff(bins))``),\n",
      "    so that the area under the histogram integrates to 1\n",
      "    (``np.sum(density * np.diff(bins)) == 1``).\n",
      "\n",
      "    If *stacked* is also ``True``, the sum of the histograms is\n",
      "    normalized to 1.\n",
      "\n",
      "weights : (n,) array-like or None, default: None\n",
      "    An array of weights, of the same shape as *x*.  Each value in\n",
      "    *x* only contributes its associated weight towards the bin count\n",
      "    (instead of 1).  If *density* is ``True``, the weights are\n",
      "    normalized, so that the integral of the density over the range\n",
      "    remains 1.\n",
      "\n",
      "cumulative : bool or -1, default: False\n",
      "    If ``True``, then a histogram is computed where each bin gives the\n",
      "    counts in that bin plus all bins for smaller values. The last bin\n",
      "    gives the total number of datapoints.\n",
      "\n",
      "    If *density* is also ``True`` then the histogram is normalized such\n",
      "    that the last bin equals 1.\n",
      "\n",
      "    If *cumulative* is a number less than 0 (e.g., -1), the direction\n",
      "    of accumulation is reversed.  In this case, if *density* is also\n",
      "    ``True``, then the histogram is normalized such that the first bin\n",
      "    equals 1.\n",
      "\n",
      "bottom : array-like or float, default: 0\n",
      "    Location of the bottom of each bin, i.e. bins are drawn from\n",
      "    ``bottom`` to ``bottom + hist(x, bins)`` If a scalar, the bottom\n",
      "    of each bin is shifted by the same amount. If an array, each bin\n",
      "    is shifted independently and the length of bottom must match the\n",
      "    number of bins. If None, defaults to 0.\n",
      "\n",
      "histtype : {'bar', 'barstacked', 'step', 'stepfilled'}, default: 'bar'\n",
      "    The type of histogram to draw.\n",
      "\n",
      "    - 'bar' is a traditional bar-type histogram.  If multiple data\n",
      "      are given the bars are arranged side by side.\n",
      "    - 'barstacked' is a bar-type histogram where multiple\n",
      "      data are stacked on top of each other.\n",
      "    - 'step' generates a lineplot that is by default unfilled.\n",
      "    - 'stepfilled' generates a lineplot that is by default filled.\n",
      "\n",
      "align : {'left', 'mid', 'right'}, default: 'mid'\n",
      "    The horizontal alignment of the histogram bars.\n",
      "\n",
      "    - 'left': bars are centered on the left bin edges.\n",
      "    - 'mid': bars are centered between the bin edges.\n",
      "    - 'right': bars are centered on the right bin edges.\n",
      "\n",
      "orientation : {'vertical', 'horizontal'}, default: 'vertical'\n",
      "    If 'horizontal', `~.Axes.barh` will be used for bar-type histograms\n",
      "    and the *bottom* kwarg will be the left edges.\n",
      "\n",
      "rwidth : float or None, default: None\n",
      "    The relative width of the bars as a fraction of the bin width.  If\n",
      "    ``None``, automatically compute the width.\n",
      "\n",
      "    Ignored if *histtype* is 'step' or 'stepfilled'.\n",
      "\n",
      "log : bool, default: False\n",
      "    If ``True``, the histogram axis will be set to a log scale.\n",
      "\n",
      "color : :mpltype:`color` or list of :mpltype:`color` or None, default: None\n",
      "    Color or sequence of colors, one per dataset.  Default (``None``)\n",
      "    uses the standard line color sequence.\n",
      "\n",
      "label : str or list of str, optional\n",
      "    String, or sequence of strings to match multiple datasets.  Bar\n",
      "    charts yield multiple patches per dataset, but only the first gets\n",
      "    the label, so that `~.Axes.legend` will work as expected.\n",
      "\n",
      "stacked : bool, default: False\n",
      "    If ``True``, multiple data are stacked on top of each other If\n",
      "    ``False`` multiple data are arranged side by side if histtype is\n",
      "    'bar' or on top of each other if histtype is 'step'\n",
      "\n",
      "Returns\n",
      "-------\n",
      "n : array or list of arrays\n",
      "    The values of the histogram bins. See *density* and *weights* for a\n",
      "    description of the possible semantics.  If input *x* is an array,\n",
      "    then this is an array of length *nbins*. If input is a sequence of\n",
      "    arrays ``[data1, data2, ...]``, then this is a list of arrays with\n",
      "    the values of the histograms for each of the arrays in the same\n",
      "    order.  The dtype of the array *n* (or of its element arrays) will\n",
      "    always be float even if no weighting or normalization is used.\n",
      "\n",
      "bins : array\n",
      "    The edges of the bins. Length nbins + 1 (nbins left edges and right\n",
      "    edge of last bin).  Always a single array even when multiple data\n",
      "    sets are passed in.\n",
      "\n",
      "patches : `.BarContainer` or list of a single `.Polygon` or list of such objects\n",
      "    Container of individual artists used to create the histogram\n",
      "    or list of such containers if there are multiple input datasets.\n",
      "\n",
      "Other Parameters\n",
      "----------------\n",
      "data : indexable object, optional\n",
      "    If given, the following parameters also accept a string ``s``, which is\n",
      "    interpreted as ``data[s]`` if ``s`` is a key in ``data``:\n",
      "\n",
      "    *x*, *weights*\n",
      "\n",
      "**kwargs\n",
      "    `~matplotlib.patches.Patch` properties. The following properties\n",
      "    additionally accept a sequence of values corresponding to the\n",
      "    datasets in *x*:\n",
      "    *edgecolor*, *facecolor*, *linewidth*, *linestyle*, *hatch*.\n",
      "\n",
      "    .. versionadded:: 3.10\n",
      "       Allowing sequences of values in above listed Patch properties.\n",
      "\n",
      "See Also\n",
      "--------\n",
      "hist2d : 2D histogram with rectangular bins\n",
      "hexbin : 2D histogram with hexagonal bins\n",
      "stairs : Plot a pre-computed histogram\n",
      "bar : Plot a pre-computed histogram\n",
      "\n",
      "Notes\n",
      "-----\n",
      "\n",
      ".. note::\n",
      "\n",
      "    This is the :ref:`pyplot wrapper <pyplot_interface>` for `.axes.Axes.hist`.\n",
      "\n",
      "For large numbers of bins (>1000), plotting can be significantly\n",
      "accelerated by using `~.Axes.stairs` to plot a pre-computed histogram\n",
      "(``plt.stairs(*np.histogram(data))``), or by setting *histtype* to\n",
      "'step' or 'stepfilled' rather than 'bar' or 'barstacked'.\n",
      "\u001b[31mFile:\u001b[39m      ~/Code/school/Sem5/PyData2025/.venv/lib/python3.13/site-packages/matplotlib/pyplot.py\n",
      "\u001b[31mType:\u001b[39m      function"
     ]
    }
   ],
   "source": [
    "plt.hist?"
   ]
  },
  {
   "cell_type": "markdown",
   "metadata": {},
   "source": [
    "#### Plot a histogram of the differences between the min and max temperature"
   ]
  },
  {
   "cell_type": "code",
   "execution_count": 60,
   "metadata": {},
   "outputs": [
    {
     "data": {
      "text/plain": [
       "(array([ 4., 15., 15., 23., 36., 26., 28., 24., 34., 31., 32., 26., 21.,\n",
       "        16.,  8.,  3.,  2.,  0.,  0.,  1.,  2.,  0.,  1.,  0.,  0.,  0.,\n",
       "         0.,  0.,  0.,  1.]),\n",
       " array([ 1.        ,  1.96666667,  2.93333333,  3.9       ,  4.86666667,\n",
       "         5.83333333,  6.8       ,  7.76666667,  8.73333333,  9.7       ,\n",
       "        10.66666667, 11.63333333, 12.6       , 13.56666667, 14.53333333,\n",
       "        15.5       , 16.46666667, 17.43333333, 18.4       , 19.36666667,\n",
       "        20.33333333, 21.3       , 22.26666667, 23.23333333, 24.2       ,\n",
       "        25.16666667, 26.13333333, 27.1       , 28.06666667, 29.03333333,\n",
       "        30.        ]),\n",
       " <BarContainer object of 30 artists>)"
      ]
     },
     "execution_count": 60,
     "metadata": {},
     "output_type": "execute_result"
    },
    {
     "data": {
      "image/png": "[encoded data removed]",
      "text/plain": [
       "<Figure size 640x480 with 1 Axes>"
      ]
     },
     "metadata": {},
     "output_type": "display_data"
    }
   ],
   "source": [
    "plt.hist(maxt - mint, bins=30, edgecolor='black')"
   ]
  },
  {
   "cell_type": "markdown",
   "metadata": {},
   "source": [
    "#### For each day calculate the average of the 3 temperatures in the data (min max and avg)\n"
   ]
  },
  {
   "cell_type": "code",
   "execution_count": 56,
   "metadata": {},
   "outputs": [
    {
     "data": {
      "text/plain": [
       "array([ -1.        ,  -1.        ,   0.        ,   0.        ,\n",
       "        -8.5       ,  -2.26666667,  -1.        ,   1.5       ,\n",
       "         4.5       ,   6.        ,  -4.76666667,  -4.5       ,\n",
       "        -8.        ,  -4.26666667,   0.5       ,   1.76666667,\n",
       "        -1.5       ,  -9.5       ,  -9.        ,  -3.76666667,\n",
       "        -4.5       ,  -6.        ,  -8.5       ,  -5.        ,\n",
       "         1.76666667,   4.        ,  -0.5       ,   0.5       ,\n",
       "        -4.5       ,  -1.5       ,   3.        ,   5.5       ,\n",
       "         3.26666667,   6.26666667,   2.76666667,  -1.26666667,\n",
       "         1.26666667,   1.        ,   1.5       ,  -2.        ,\n",
       "        -3.        ,  -5.5       ,  -8.        , -22.5       ,\n",
       "       -14.5       ,  -7.        ,  -2.5       ,  -9.5       ,\n",
       "        -1.76666667,   7.5       ,   4.5       ,  -2.26666667,\n",
       "        -3.        ,   0.26666667,   0.        ,   5.76666667,\n",
       "        -7.76666667,  -8.26666667,  -4.26666667,  -1.5       ,\n",
       "         2.26666667,   5.26666667,   5.5       ,   8.        ,\n",
       "         9.5       ,   4.5       ,   4.5       ,   6.26666667,\n",
       "         8.        ,   7.5       ,   4.26666667,   4.26666667,\n",
       "        -3.26666667,  -2.26666667,  -0.5       ,  -0.76666667,\n",
       "         3.5       ,   0.        ,  -1.        ,  -1.26666667,\n",
       "         4.        ,   6.5       ,   3.        ,   2.26666667,\n",
       "         9.        ,   9.26666667,   2.        ,  -4.        ,\n",
       "        -3.        ,  -4.        ,   2.26666667,   4.26666667,\n",
       "         0.        ,  -2.26666667,  -2.        ,   3.5       ,\n",
       "         4.        ,   0.76666667,   4.76666667,   7.76666667,\n",
       "         8.        ,  10.26666667,  12.5       ,  11.        ,\n",
       "         7.        ,   8.5       ,  12.76666667,  10.5       ,\n",
       "         4.26666667,   7.        ,   8.5       ,   8.76666667,\n",
       "         6.76666667,   8.76666667,  13.5       ,  11.76666667,\n",
       "        12.5       ,   8.76666667,   7.5       ,  10.26666667,\n",
       "        11.76666667,  13.5       ,  16.5       ,  11.        ,\n",
       "         5.5       ,   9.5       ,  15.76666667,  17.76666667,\n",
       "        17.5       ,  17.5       ,  18.26666667,  18.5       ,\n",
       "        20.76666667,  20.5       ,  22.        ,  22.5       ,\n",
       "        19.5       ,  14.76666667,  19.26666667,  18.76666667,\n",
       "        18.26666667,  18.26666667,  19.        ,  16.76666667,\n",
       "        12.76666667,  13.5       ,  14.        ,  20.76666667,\n",
       "        17.26666667,  15.5       ,  13.76666667,  16.26666667,\n",
       "        21.        ,  21.26666667,  20.        ,  21.5       ,\n",
       "        23.76666667,  19.        ,  19.5       ,  16.5       ,\n",
       "        18.        ,  19.5       ,  22.        ,  25.26666667,\n",
       "        21.        ,  17.5       ,  19.        ,  17.76666667,\n",
       "        19.5       ,  22.5       ,  22.5       ,  25.        ,\n",
       "        23.76666667,  23.        ,  21.76666667,  20.5       ,\n",
       "        22.        ,  24.26666667,  23.5       ,  21.5       ,\n",
       "        18.        ,  18.5       ,  25.76666667,  20.        ,\n",
       "        18.        ,  21.5       ,  28.5       ,  26.76666667,\n",
       "        23.        ,  26.        ,  22.76666667,  22.5       ,\n",
       "        24.        ,  22.5       ,  21.5       ,  22.5       ,\n",
       "        23.        ,  21.76666667,  21.76666667,  23.5       ,\n",
       "        26.76666667,  24.26666667,  22.26666667,  22.76666667,\n",
       "        21.76666667,  26.        ,  25.5       ,  28.26666667,\n",
       "        24.26666667,  24.26666667,  20.5       ,  24.        ,\n",
       "        19.5       ,  23.76666667,  21.5       ,  24.76666667,\n",
       "        24.5       ,  18.        ,  18.5       ,  21.        ,\n",
       "        25.        ,  23.26666667,  20.26666667,  26.        ,\n",
       "        21.5       ,  21.        ,  23.76666667,  18.5       ,\n",
       "        19.        ,  17.5       ,  17.        ,  19.5       ,\n",
       "        22.        ,  25.        ,  26.        ,  23.26666667,\n",
       "        22.5       ,  19.76666667,  16.26666667,  19.26666667,\n",
       "        19.        ,  14.26666667,  15.76666667,  19.        ,\n",
       "        20.5       ,  19.26666667,  21.26666667,  18.26666667,\n",
       "        19.76666667,  15.26666667,  13.76666667,  11.5       ,\n",
       "        14.26666667,  14.26666667,  17.        ,  15.5       ,\n",
       "        16.76666667,  16.26666667,  17.76666667,  16.5       ,\n",
       "        16.26666667,  16.        ,  17.26666667,  17.        ,\n",
       "        17.        ,  10.        ,   6.76666667,  10.        ,\n",
       "        12.5       ,  15.5       ,   9.5       ,  12.        ,\n",
       "        17.26666667,  17.        ,  18.26666667,  14.5       ,\n",
       "        13.        ,   9.5       ,   6.5       ,   8.76666667,\n",
       "         7.5       ,   5.5       ,   1.76666667,   3.26666667,\n",
       "         7.        ,  12.26666667,   7.5       ,   4.        ,\n",
       "         8.        ,  15.        ,  11.76666667,   7.26666667,\n",
       "        10.26666667,   7.        ,   7.76666667,   8.26666667,\n",
       "         7.5       ,   9.        ,   5.76666667,   2.76666667,\n",
       "         6.5       ,   8.5       ,   5.5       ,   7.        ,\n",
       "         6.        ,   9.5       ,   9.5       ,   0.        ,\n",
       "        -0.26666667,   0.76666667,  -2.26666667,   1.26666667,\n",
       "         4.5       ,   6.        ,   5.        ,   5.26666667,\n",
       "         9.26666667,   7.        ,   6.        ,   4.        ,\n",
       "         2.5       ,  -0.5       ,   3.        ,   1.76666667,\n",
       "         3.        ,   0.5       ,  -4.        ,  -4.        ,\n",
       "        -2.5       ,   1.        ,  -0.5       ,  -5.76666667,\n",
       "        -9.76666667,  -8.26666667,  -3.26666667,  -3.76666667,\n",
       "        -7.26666667,  -3.5       ,  -0.26666667,   1.76666667,\n",
       "         1.26666667,   3.        ,   1.        ,   1.5       ,\n",
       "         1.        ,  -0.5       ,   1.        ,  -0.5       ,\n",
       "         0.76666667])"
      ]
     },
     "execution_count": 56,
     "metadata": {},
     "output_type": "execute_result"
    }
   ],
   "source": [
    "avg = (mint + maxt + meant) / 3\n",
    "avg"
   ]
  },
  {
   "cell_type": "markdown",
   "metadata": {},
   "source": [
    "#### Calculate the total amount of precipitation for the whole year\n",
    "Does the number seem reasonable? The annual average precipitation in Toronto is 831 mm according to https://en.wikipedia.org/wiki/Geography_of_Toronto"
   ]
  },
  {
   "cell_type": "code",
   "execution_count": 57,
   "metadata": {},
   "outputs": [
    {
     "data": {
      "text/plain": [
       "np.float64(662.8000000000001)"
      ]
     },
     "execution_count": 57,
     "metadata": {},
     "output_type": "execute_result"
    }
   ],
   "source": [
    "annual_precip = total_precip.sum()\n",
    "annual_precip"
   ]
  },
  {
   "cell_type": "markdown",
   "metadata": {},
   "source": [
    "#### Calculate the total precipitation on all odd numbered days (day 1, 3, 5 and so on)"
   ]
  },
  {
   "cell_type": "code",
   "execution_count": 58,
   "metadata": {},
   "outputs": [
    {
     "data": {
      "text/plain": [
       "np.float64(296.9)"
      ]
     },
     "execution_count": 58,
     "metadata": {},
     "output_type": "execute_result"
    }
   ],
   "source": [
    "annual_odd_precip = total_precip[1::2].sum()\n",
    "annual_odd_precip"
   ]
  }
 ],
 "metadata": {
  "kernelspec": {
   "display_name": ".venv",
   "language": "python",
   "name": "python3"
  },
  "language_info": {
   "codemirror_mode": {
    "name": "ipython",
    "version": 3
   },
   "file_extension": ".py",
   "mimetype": "text/x-python",
   "name": "python",
   "nbconvert_exporter": "python",
   "pygments_lexer": "ipython3",
   "version": "3.13.7"
  }
 },
 "nbformat": 4,
 "nbformat_minor": 4
}
