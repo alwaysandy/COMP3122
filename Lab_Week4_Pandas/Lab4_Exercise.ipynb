{
 "cells": [
  {
   "cell_type": "markdown",
   "metadata": {
    "read_only": true,
    "tags": []
   },
   "source": [
    "# Lab Week 4: Pandas DataFrame | Buenos Aires subway dataset\n",
    "\n",
    "As a data analyst, you are examining public transportation accessibility in Buenos Aires, Argentina, for an upcoming project. You are particularly interested in the subway system as an efficient way to navigate the city. You will first focus on the Pueyrredon station on Line D of the subway and examine its ridership.\n",
    "\n",
    "<div style=\"text-align: center;\">\n",
    "    <!-- <img src=\"imgs/subway_map_wcircle.jpg\" alt=\"Subway map\" width=\"600\"/> -->\n",
    "    <img src=\"https://raw.githubusercontent.com/PyDataGBC/PyData2025/refs/heads/main/Lab_Week4_Pandas/imgs/subway_map_wcircle.jpg\" alt=\"Subway map\" width=\"600\"/>\n",
    "    \n",
    "</div>\n",
    "\n",
    "<div style=\"text-align: center;\">\n",
    "    <a href=\"https://emova.com.ar/wp-content/uploads/2023/09/Mapa_Emova_2023-color-.jpg\">image source</a>\n",
    "</div>\n",
    "\n",
    "\n",
    "## General instructions\n",
    "- **Replace any instances of `None` with your own code**. All `None`s must be replaced.\n",
    "- **Compare your results with the expected output** shown below the code.\n",
    "\n"
   ]
  },
  {
   "cell_type": "markdown",
   "metadata": {},
   "source": [
    "# Imports\n",
    "\n",
    "<div style=\"background-color: #C6E2FF; color: #1a1a1a; padding: 10px; border-radius: 3px; box-shadow: 0 2px 4px rgba(0, 0, 0, 0.1); width:95%\">\n",
    "    <strong>▶▶▶ Directions</strong> \n",
    "        <ol>\n",
    "            <li>Use the cell below to import the pandas module. Assign it the alias: <code>pd</code>.</li>\n",
    "        </ol>\n",
    "</div>"
   ]
  },
  {
   "cell_type": "code",
   "execution_count": 2,
   "metadata": {},
   "outputs": [],
   "source": [
    "# impot pandas here\n",
    "import pandas as pd\n"
   ]
  },
  {
   "cell_type": "markdown",
   "metadata": {},
   "source": [
    "# Part I : Pandas DataFrame"
   ]
  },
  {
   "cell_type": "markdown",
   "metadata": {},
   "source": [
    "## Step I-1: Load the data\n",
    "\n",
    "After importing `pandas` you will load the dataset as a pandas DataFrame. The CSV will have these features:\n",
    "\n",
    "* `datetime` - hour and date the measurement was taken\n",
    "* `line` - subway line\n",
    "* `station`\t- station name\n",
    "* `pax_pagos` - number of passengers who paid with ticket (single-use ticket)\n",
    "* `pax_pases_pagos` - number of passengers who paid with passes (e.g., monthly card, multi-ride pass)\n",
    "* `pax_franq` - number of passengers who paid with deductibles (e.g., students, seniors, or other deductible categories)\n",
    "* `pax_total` - total number of passengers who used the turnstile - equal to the sum of the three categories above (single + pass + discount)\n",
    "\n",
    "<div style=\"background-color: #C6E2FF; color: #1a1a1a; padding: 10px; border-radius: 3px; box-shadow: 0 2px 4px rgba(0, 0, 0, 0.1); width:95%\">\n",
    "    <strong>▶▶▶ Directions</strong> \n",
    "        <ol>\n",
    "            <li>Load the CSV dataset to a variable <code>df</code>. The filename is <i>pueyrredon_march2024_8-11.csv</i></li>\n",
    "            <li>Print the first 5 rows.</li>\n",
    "        </ol>\n",
    "</div>\n",
    "\n"
   ]
  },
  {
   "cell_type": "code",
   "execution_count": 4,
   "metadata": {},
   "outputs": [
    {
     "data": {
      "text/html": [
       "<div>\n",
       "<style scoped>\n",
       "    .dataframe tbody tr th:only-of-type {\n",
       "        vertical-align: middle;\n",
       "    }\n",
       "\n",
       "    .dataframe tbody tr th {\n",
       "        vertical-align: top;\n",
       "    }\n",
       "\n",
       "    .dataframe thead th {\n",
       "        text-align: right;\n",
       "    }\n",
       "</style>\n",
       "<table border=\"1\" class=\"dataframe\">\n",
       "  <thead>\n",
       "    <tr style=\"text-align: right;\">\n",
       "      <th></th>\n",
       "      <th>datetime</th>\n",
       "      <th>station</th>\n",
       "      <th>line</th>\n",
       "      <th>pax_pagos</th>\n",
       "      <th>pax_pases_pagos</th>\n",
       "      <th>pax_franq</th>\n",
       "      <th>pax_TOTAL</th>\n",
       "    </tr>\n",
       "  </thead>\n",
       "  <tbody>\n",
       "    <tr>\n",
       "      <th>0</th>\n",
       "      <td>2024-03-01 08:00:00</td>\n",
       "      <td>Pueyrredon.D</td>\n",
       "      <td>D</td>\n",
       "      <td>0</td>\n",
       "      <td>0</td>\n",
       "      <td>6</td>\n",
       "      <td>6</td>\n",
       "    </tr>\n",
       "    <tr>\n",
       "      <th>1</th>\n",
       "      <td>2024-03-01 09:00:00</td>\n",
       "      <td>Pueyrredon.D</td>\n",
       "      <td>D</td>\n",
       "      <td>0</td>\n",
       "      <td>0</td>\n",
       "      <td>5</td>\n",
       "      <td>5</td>\n",
       "    </tr>\n",
       "    <tr>\n",
       "      <th>2</th>\n",
       "      <td>2024-03-01 10:00:00</td>\n",
       "      <td>Pueyrredon.D</td>\n",
       "      <td>D</td>\n",
       "      <td>0</td>\n",
       "      <td>0</td>\n",
       "      <td>2</td>\n",
       "      <td>2</td>\n",
       "    </tr>\n",
       "    <tr>\n",
       "      <th>3</th>\n",
       "      <td>2024-03-01 11:00:00</td>\n",
       "      <td>Pueyrredon.D</td>\n",
       "      <td>D</td>\n",
       "      <td>0</td>\n",
       "      <td>0</td>\n",
       "      <td>3</td>\n",
       "      <td>3</td>\n",
       "    </tr>\n",
       "    <tr>\n",
       "      <th>4</th>\n",
       "      <td>2024-03-02 08:00:00</td>\n",
       "      <td>Pueyrredon.D</td>\n",
       "      <td>D</td>\n",
       "      <td>0</td>\n",
       "      <td>0</td>\n",
       "      <td>1</td>\n",
       "      <td>1</td>\n",
       "    </tr>\n",
       "  </tbody>\n",
       "</table>\n",
       "</div>"
      ],
      "text/plain": [
       "              datetime       station line  pax_pagos  pax_pases_pagos  \\\n",
       "0  2024-03-01 08:00:00  Pueyrredon.D    D          0                0   \n",
       "1  2024-03-01 09:00:00  Pueyrredon.D    D          0                0   \n",
       "2  2024-03-01 10:00:00  Pueyrredon.D    D          0                0   \n",
       "3  2024-03-01 11:00:00  Pueyrredon.D    D          0                0   \n",
       "4  2024-03-02 08:00:00  Pueyrredon.D    D          0                0   \n",
       "\n",
       "   pax_franq  pax_TOTAL  \n",
       "0          6          6  \n",
       "1          5          5  \n",
       "2          2          2  \n",
       "3          3          3  \n",
       "4          1          1  "
      ]
     },
     "execution_count": 4,
     "metadata": {},
     "output_type": "execute_result"
    }
   ],
   "source": [
    "### START CODE HERE ###\n",
    "#Load the CSV to a DataFrame and save it in a variable called df.\n",
    "df = pd.read_csv('pueyrredon_march2024_8-11.csv')\n",
    "# Preview the first 5 rows.\n",
    "df.head()\n",
    "\n",
    "### END CODE HERE ###"
   ]
  },
  {
   "cell_type": "markdown",
   "metadata": {},
   "source": [
    "You can also use the `sample()` method to get some random data points to inspect."
   ]
  },
  {
   "cell_type": "code",
   "execution_count": 5,
   "metadata": {},
   "outputs": [
    {
     "data": {
      "text/html": [
       "<div>\n",
       "<style scoped>\n",
       "    .dataframe tbody tr th:only-of-type {\n",
       "        vertical-align: middle;\n",
       "    }\n",
       "\n",
       "    .dataframe tbody tr th {\n",
       "        vertical-align: top;\n",
       "    }\n",
       "\n",
       "    .dataframe thead th {\n",
       "        text-align: right;\n",
       "    }\n",
       "</style>\n",
       "<table border=\"1\" class=\"dataframe\">\n",
       "  <thead>\n",
       "    <tr style=\"text-align: right;\">\n",
       "      <th></th>\n",
       "      <th>datetime</th>\n",
       "      <th>station</th>\n",
       "      <th>line</th>\n",
       "      <th>pax_pagos</th>\n",
       "      <th>pax_pases_pagos</th>\n",
       "      <th>pax_franq</th>\n",
       "      <th>pax_TOTAL</th>\n",
       "    </tr>\n",
       "  </thead>\n",
       "  <tbody>\n",
       "    <tr>\n",
       "      <th>90</th>\n",
       "      <td>2024-03-25 10:00:00</td>\n",
       "      <td>Pueyrredon.D</td>\n",
       "      <td>D</td>\n",
       "      <td>402</td>\n",
       "      <td>1</td>\n",
       "      <td>23</td>\n",
       "      <td>426</td>\n",
       "    </tr>\n",
       "    <tr>\n",
       "      <th>24</th>\n",
       "      <td>2024-03-09 08:00:00</td>\n",
       "      <td>Pueyrredon.D</td>\n",
       "      <td>D</td>\n",
       "      <td>73</td>\n",
       "      <td>0</td>\n",
       "      <td>4</td>\n",
       "      <td>77</td>\n",
       "    </tr>\n",
       "    <tr>\n",
       "      <th>110</th>\n",
       "      <td>2024-03-30 10:00:00</td>\n",
       "      <td>Pueyrredon.D</td>\n",
       "      <td>D</td>\n",
       "      <td>147</td>\n",
       "      <td>0</td>\n",
       "      <td>9</td>\n",
       "      <td>156</td>\n",
       "    </tr>\n",
       "    <tr>\n",
       "      <th>51</th>\n",
       "      <td>2024-03-15 11:00:00</td>\n",
       "      <td>Pueyrredon.D</td>\n",
       "      <td>D</td>\n",
       "      <td>444</td>\n",
       "      <td>0</td>\n",
       "      <td>38</td>\n",
       "      <td>482</td>\n",
       "    </tr>\n",
       "    <tr>\n",
       "      <th>46</th>\n",
       "      <td>2024-03-14 10:00:00</td>\n",
       "      <td>Pueyrredon.D</td>\n",
       "      <td>D</td>\n",
       "      <td>368</td>\n",
       "      <td>0</td>\n",
       "      <td>25</td>\n",
       "      <td>393</td>\n",
       "    </tr>\n",
       "    <tr>\n",
       "      <th>20</th>\n",
       "      <td>2024-03-08 08:00:00</td>\n",
       "      <td>Pueyrredon.D</td>\n",
       "      <td>D</td>\n",
       "      <td>339</td>\n",
       "      <td>1</td>\n",
       "      <td>25</td>\n",
       "      <td>365</td>\n",
       "    </tr>\n",
       "    <tr>\n",
       "      <th>12</th>\n",
       "      <td>2024-03-06 08:00:00</td>\n",
       "      <td>Pueyrredon.D</td>\n",
       "      <td>D</td>\n",
       "      <td>0</td>\n",
       "      <td>0</td>\n",
       "      <td>2</td>\n",
       "      <td>2</td>\n",
       "    </tr>\n",
       "    <tr>\n",
       "      <th>47</th>\n",
       "      <td>2024-03-14 11:00:00</td>\n",
       "      <td>Pueyrredon.D</td>\n",
       "      <td>D</td>\n",
       "      <td>351</td>\n",
       "      <td>0</td>\n",
       "      <td>31</td>\n",
       "      <td>382</td>\n",
       "    </tr>\n",
       "    <tr>\n",
       "      <th>93</th>\n",
       "      <td>2024-03-26 09:00:00</td>\n",
       "      <td>Pueyrredon.D</td>\n",
       "      <td>D</td>\n",
       "      <td>506</td>\n",
       "      <td>0</td>\n",
       "      <td>12</td>\n",
       "      <td>518</td>\n",
       "    </tr>\n",
       "    <tr>\n",
       "      <th>40</th>\n",
       "      <td>2024-03-13 08:00:00</td>\n",
       "      <td>Pueyrredon.D</td>\n",
       "      <td>D</td>\n",
       "      <td>408</td>\n",
       "      <td>1</td>\n",
       "      <td>19</td>\n",
       "      <td>428</td>\n",
       "    </tr>\n",
       "  </tbody>\n",
       "</table>\n",
       "</div>"
      ],
      "text/plain": [
       "                datetime       station line  pax_pagos  pax_pases_pagos  \\\n",
       "90   2024-03-25 10:00:00  Pueyrredon.D    D        402                1   \n",
       "24   2024-03-09 08:00:00  Pueyrredon.D    D         73                0   \n",
       "110  2024-03-30 10:00:00  Pueyrredon.D    D        147                0   \n",
       "51   2024-03-15 11:00:00  Pueyrredon.D    D        444                0   \n",
       "46   2024-03-14 10:00:00  Pueyrredon.D    D        368                0   \n",
       "20   2024-03-08 08:00:00  Pueyrredon.D    D        339                1   \n",
       "12   2024-03-06 08:00:00  Pueyrredon.D    D          0                0   \n",
       "47   2024-03-14 11:00:00  Pueyrredon.D    D        351                0   \n",
       "93   2024-03-26 09:00:00  Pueyrredon.D    D        506                0   \n",
       "40   2024-03-13 08:00:00  Pueyrredon.D    D        408                1   \n",
       "\n",
       "     pax_franq  pax_TOTAL  \n",
       "90          23        426  \n",
       "24           4         77  \n",
       "110          9        156  \n",
       "51          38        482  \n",
       "46          25        393  \n",
       "20          25        365  \n",
       "12           2          2  \n",
       "47          31        382  \n",
       "93          12        518  \n",
       "40          19        428  "
      ]
     },
     "execution_count": 5,
     "metadata": {},
     "output_type": "execute_result"
    }
   ],
   "source": [
    "# Get 10 random samples\n",
    "df.sample(10)"
   ]
  },
  {
   "cell_type": "markdown",
   "metadata": {},
   "source": [
    "## Step I-2: Inspect the dataset\n",
    "\n",
    "\n",
    "<div style=\"background-color: #C6E2FF; color: #1a1a1a; padding: 10px; border-radius: 3px; box-shadow: 0 2px 4px rgba(0, 0, 0, 0.1); width:95%\n",
    "\">\n",
    "    <strong>▶▶▶ Directions</strong> \n",
    "        <ol>\n",
    "            <li>Get the columns from the dataset using the <code>columns</code> attribute and assign it to the <code>df_columns</code> variable.</li>\n",
    "            <li>Get the data types using the <code>dtypes</code> attribute and assign it to the <code>df_dtypes</code> variable.</i></li>\n",
    "            <li>Print the first 5 rows.</li>\n",
    "        </ol>\n",
    "</div>"
   ]
  },
  {
   "cell_type": "code",
   "execution_count": null,
   "metadata": {},
   "outputs": [
    {
     "name": "stdout",
     "output_type": "stream",
     "text": [
      "<class 'pandas.core.indexes.base.Index'>\n",
      "The columns of the dataset are: ['datetime', 'station', 'line', 'pax_pagos', 'pax_pases_pagos', 'pax_franq', 'pax_TOTAL']\n",
      "\n",
      "The data types of each column are:\n",
      "\n",
      "datetime           object\n",
      "station            object\n",
      "line               object\n",
      "pax_pagos           int64\n",
      "pax_pases_pagos     int64\n",
      "pax_franq           int64\n",
      "pax_TOTAL           int64\n",
      "dtype: object\n"
     ]
    }
   ],
   "source": [
    "### START CODE HERE ###\n",
    "\n",
    "# Get the columns\n",
    "df_columns = df.columns\n",
    "\n",
    "# Get the datatypes\n",
    "df_dtypes = df.dtypes\n",
    "\n",
    "### END CODE HERE ###\n",
    "\n",
    "print(\"The columns of the dataset are:\", list(df_columns))\n",
    "print(\"\\nThe data types of each column are:\\n\")\n",
    "print(df_dtypes)"
   ]
  },
  {
   "cell_type": "markdown",
   "metadata": {},
   "source": [
    "Another way to extract these information is to use the `.info()` method. \n",
    "\n",
    "This also provides a `Non-Null Count` column that detects if there are any null values in the dataset."
   ]
  },
  {
   "cell_type": "code",
   "execution_count": 7,
   "metadata": {},
   "outputs": [
    {
     "name": "stdout",
     "output_type": "stream",
     "text": [
      "<class 'pandas.core.frame.DataFrame'>\n",
      "RangeIndex: 116 entries, 0 to 115\n",
      "Data columns (total 7 columns):\n",
      " #   Column           Non-Null Count  Dtype \n",
      "---  ------           --------------  ----- \n",
      " 0   datetime         116 non-null    object\n",
      " 1   station          116 non-null    object\n",
      " 2   line             116 non-null    object\n",
      " 3   pax_pagos        116 non-null    int64 \n",
      " 4   pax_pases_pagos  116 non-null    int64 \n",
      " 5   pax_franq        116 non-null    int64 \n",
      " 6   pax_TOTAL        116 non-null    int64 \n",
      "dtypes: int64(4), object(3)\n",
      "memory usage: 6.5+ KB\n"
     ]
    }
   ],
   "source": [
    "# Print a summary of the features\n",
    "df.info()"
   ]
  },
  {
   "cell_type": "markdown",
   "metadata": {},
   "source": [
    "## Step I-3: Select columns\n",
    "\n",
    "In real world data, you might receive a lot of features that you don't really need in your analysis. You might be interested in only a handful of features. \n",
    "\n",
    "You can select these specific columns in DataFrames to simplify your dataset. \n",
    "\n",
    "For example, in this use case, you don't find the `station` and `line` columns to be useful because they're the same for every row.\n",
    "\n",
    "<div style=\"background-color: #C6E2FF; color: #1a1a1a; padding: 10px; border-radius: 3px; box-shadow: 0 2px 4px rgba(0, 0, 0, 0.1); width:95%\n",
    "\">\n",
    "    <strong>▶▶▶ Directions</strong> \n",
    "        <ol>\n",
    "            <li>Define a <code>columns</code> variable containing the list of features in <code>df</code> except <code>station</code> and <code>line</code>. You can use the output of <code>df_columns</code> earlier then just remove the two features mentioned.</li>\n",
    "            <li>Select these columns from the <code>df</code> dataframe and assign it to the variable <code>df_pax</code>.</i></li>\n",
    "            <li>Print the first 5 rows of this new dataframe.</li>\n",
    "        </ol>\n",
    "</div>"
   ]
  },
  {
   "cell_type": "code",
   "execution_count": 19,
   "metadata": {},
   "outputs": [
    {
     "name": "stdout",
     "output_type": "stream",
     "text": [
      "Index(['datetime', 'pax_pagos', 'pax_pases_pagos', 'pax_franq', 'pax_TOTAL'], dtype='object')\n",
      "                datetime  pax_pagos  pax_pases_pagos  pax_franq  pax_TOTAL\n",
      "0    2024-03-01 08:00:00          0                0          6          6\n",
      "1    2024-03-01 09:00:00          0                0          5          5\n",
      "2    2024-03-01 10:00:00          0                0          2          2\n",
      "3    2024-03-01 11:00:00          0                0          3          3\n",
      "4    2024-03-02 08:00:00          0                0          1          1\n",
      "..                   ...        ...              ...        ...        ...\n",
      "111  2024-03-30 11:00:00        163                0         12        175\n",
      "112  2024-03-31 08:00:00         18                0          0         18\n",
      "113  2024-03-31 09:00:00         43                0          1         44\n",
      "114  2024-03-31 10:00:00         75                0          0         75\n",
      "115  2024-03-31 11:00:00        125                0          5        130\n",
      "\n",
      "[116 rows x 5 columns]\n"
     ]
    }
   ],
   "source": [
    "### START CODE HERE ###\n",
    "\n",
    "# Get the list of features without `station` and `line`.\n",
    "columns = df_columns.drop(['station', 'line'])\n",
    "# columns = df.columns.difference(['station', 'line'])\n",
    "print(columns)\n",
    "\n",
    "# Select the columns in the list above.\n",
    "df_pax = df[columns]\n",
    "\n",
    "# Preview the simplified DataFrame.\n",
    "print(df_pax)\n",
    "\n",
    "### END CODE HERE ###"
   ]
  },
  {
   "cell_type": "markdown",
   "metadata": {},
   "source": [
    "\n",
    "## Step I-4: Calculate the sum per column\n",
    "\n",
    "You want to calculate how much each type of passenger payment contributes to the total passenger count. \n",
    "\n",
    "This can help you quantify how much discounted rates affects the total revenue for that particular month.\n",
    "\n",
    "<div style=\"background-color: #C6E2FF; color: #1a1a1a; padding: 10px; border-radius: 3px; box-shadow: 0 2px 4px rgba(0, 0, 0, 0.1); width:95%\n",
    "\">\n",
    "    <strong>▶▶▶ Directions</strong> \n",
    "        <ol>\n",
    "            <li>Use the <code>sum()</code> method to count the total number of passengers under the <code>pax_pagos</code>, <code>pax_pases_pagos</code>, <code>pax_franq</code> and <code>pax_TOTAL</code> columns.</li>\n",
    "        </ol>\n",
    "</div>"
   ]
  },
  {
   "cell_type": "code",
   "execution_count": 23,
   "metadata": {},
   "outputs": [
    {
     "name": "stdout",
     "output_type": "stream",
     "text": [
      "Percent of `pax_pagos`: 93.89642215324294\n",
      "Percent of `pax_pases_pagos`: 0.04247671949027937\n",
      "Percent of `pax_franq`: 6.061101127266786\n"
     ]
    }
   ],
   "source": [
    "### START CODE HERE ###\n",
    "\n",
    "# Get the sum for `pax_pagos`\n",
    "df_pax_pagos = sum(df['pax_pagos'])\n",
    "# Get the sum for `pax_pases_pagos`\n",
    "df_pax_pases_pagos = sum(df['pax_pases_pagos'])\n",
    "\n",
    "# Get the sum for `pax_franq`\n",
    "df_pax_franq = sum(df['pax_franq'])\n",
    "\n",
    "# Get the sum for `pax_TOTAL`\n",
    "df_pax_total = sum(df['pax_TOTAL'])\n",
    "\n",
    "### END CODE HERE ###\n",
    "\n",
    "print(\"Percent of `pax_pagos`:\", (df_pax_pagos/df_pax_total*100))\n",
    "print(\"Percent of `pax_pases_pagos`:\", (df_pax_pases_pagos/df_pax_total*100))\n",
    "print(\"Percent of `pax_franq`:\", (df_pax_franq/df_pax_total*100))"
   ]
  },
  {
   "cell_type": "markdown",
   "metadata": {},
   "source": [
    "\n",
    "<summary style=\"background-color: #c6e2ff6c; padding: 10px; border-radius: 3px; box-shadow: 0 2px 4px rgba(0, 0, 0, 0.01); width: 95%; text-align: left; cursor: pointer; font-weight: bold;\">\n",
    "Expected output:</summary> \n",
    "\n",
    "<br>\n",
    "\n",
    "```text\n",
    "Percent of `pax_pagos`: 93.89642215324294\n",
    "Percent of `pax_pases_pagos`: 0.04247671949027937\n",
    "Percent of `pax_franq`: 6.061101127266786\n",
    "\n",
    "```\n",
    "\n"
   ]
  },
  {
   "cell_type": "markdown",
   "metadata": {},
   "source": [
    "You can also get some preliminary visualization of the data. \n",
    "\n",
    "Say you want to visually inspect what is the typical total passenger count at these hours. \n",
    "\n",
    "You can use the `.hist()` method to do just that."
   ]
  },
  {
   "cell_type": "code",
   "execution_count": 24,
   "metadata": {},
   "outputs": [
    {
     "data": {
      "text/plain": [
       "<Axes: >"
      ]
     },
     "execution_count": 24,
     "metadata": {},
     "output_type": "execute_result"
    },
    {
     "data": {
      "image/png": "[encoded data removed]",
      "text/plain": [
       "<Figure size 640x480 with 1 Axes>"
      ]
     },
     "metadata": {},
     "output_type": "display_data"
    }
   ],
   "source": [
    "# Generate a histogram of `pax_TOTAL`.\n",
    "df_pax[\"pax_TOTAL\"].hist(bins=40)"
   ]
  },
  {
   "cell_type": "markdown",
   "metadata": {},
   "source": [
    "You can see that there seems to be two clusters here divided along the 250 passenger mark. \n",
    "\n",
    "You can get a sense of how free or crowded the station can become at these hours by looking at the taller columns in the chart."
   ]
  },
  {
   "cell_type": "markdown",
   "metadata": {},
   "source": [
    "# Part II: Sorting and Filtering"
   ]
  },
  {
   "cell_type": "markdown",
   "metadata": {},
   "source": [
    "\n",
    "## Step II-1: Load and sort the dataset\n",
    "\n",
    "The cell below imports the CSV you will be working with. \n",
    "\n",
    "This data corresponds to the number of passengers at every station in the subway system of Buenos Aires in March 2024, with an hourly granularity. \n",
    "\n",
    "It consists of 5 features:\n",
    "\n",
    "- `date`: date of the observation, in format YYYY-MM-DD\n",
    "- `hour`: hour of the observation\n",
    "- `station`: name of the subway station\n",
    "- `line`: name of the subway line (A, B, C, D, E, H). Each line corresponds to one of the colored lines in the map above.\n",
    "- `pax_TOTAL`: total number of passengers at the station "
   ]
  },
  {
   "cell_type": "code",
   "execution_count": 25,
   "metadata": {},
   "outputs": [
    {
     "data": {
      "text/html": [
       "<div>\n",
       "<style scoped>\n",
       "    .dataframe tbody tr th:only-of-type {\n",
       "        vertical-align: middle;\n",
       "    }\n",
       "\n",
       "    .dataframe tbody tr th {\n",
       "        vertical-align: top;\n",
       "    }\n",
       "\n",
       "    .dataframe thead th {\n",
       "        text-align: right;\n",
       "    }\n",
       "</style>\n",
       "<table border=\"1\" class=\"dataframe\">\n",
       "  <thead>\n",
       "    <tr style=\"text-align: right;\">\n",
       "      <th></th>\n",
       "      <th>date</th>\n",
       "      <th>hour</th>\n",
       "      <th>station</th>\n",
       "      <th>line</th>\n",
       "      <th>pax_TOTAL</th>\n",
       "    </tr>\n",
       "  </thead>\n",
       "  <tbody>\n",
       "    <tr>\n",
       "      <th>0</th>\n",
       "      <td>2024-03-01</td>\n",
       "      <td>5</td>\n",
       "      <td>Acoyte</td>\n",
       "      <td>A</td>\n",
       "      <td>50</td>\n",
       "    </tr>\n",
       "    <tr>\n",
       "      <th>1</th>\n",
       "      <td>2024-03-01</td>\n",
       "      <td>5</td>\n",
       "      <td>Aguero</td>\n",
       "      <td>D</td>\n",
       "      <td>1</td>\n",
       "    </tr>\n",
       "    <tr>\n",
       "      <th>2</th>\n",
       "      <td>2024-03-01</td>\n",
       "      <td>5</td>\n",
       "      <td>Alberti</td>\n",
       "      <td>A</td>\n",
       "      <td>6</td>\n",
       "    </tr>\n",
       "    <tr>\n",
       "      <th>3</th>\n",
       "      <td>2024-03-01</td>\n",
       "      <td>5</td>\n",
       "      <td>Angel Gallardo</td>\n",
       "      <td>B</td>\n",
       "      <td>30</td>\n",
       "    </tr>\n",
       "    <tr>\n",
       "      <th>4</th>\n",
       "      <td>2024-03-01</td>\n",
       "      <td>5</td>\n",
       "      <td>Avenida La Plata</td>\n",
       "      <td>E</td>\n",
       "      <td>26</td>\n",
       "    </tr>\n",
       "  </tbody>\n",
       "</table>\n",
       "</div>"
      ],
      "text/plain": [
       "         date  hour           station line  pax_TOTAL\n",
       "0  2024-03-01     5            Acoyte    A         50\n",
       "1  2024-03-01     5            Aguero    D          1\n",
       "2  2024-03-01     5           Alberti    A          6\n",
       "3  2024-03-01     5    Angel Gallardo    B         30\n",
       "4  2024-03-01     5  Avenida La Plata    E         26"
      ]
     },
     "execution_count": 25,
     "metadata": {},
     "output_type": "execute_result"
    }
   ],
   "source": [
    "import pandas as pd\n",
    "df = pd.read_csv(\"march2024_pax_hourly.csv\")\n",
    "df.head()"
   ]
  },
  {
   "cell_type": "markdown",
   "metadata": {},
   "source": [
    "The cell below prints the number of rows and unique stations in the DataFrame."
   ]
  },
  {
   "cell_type": "code",
   "execution_count": 9,
   "metadata": {},
   "outputs": [
    {
     "data": {
      "text/plain": [
       "49219"
      ]
     },
     "execution_count": 9,
     "metadata": {},
     "output_type": "execute_result"
    }
   ],
   "source": [
    "len(df)"
   ]
  },
  {
   "cell_type": "code",
   "execution_count": 16,
   "metadata": {},
   "outputs": [
    {
     "data": {
      "text/plain": [
       "array(['Acoyte', 'Aguero', 'Alberti', 'Angel Gallardo',\n",
       "       'Avenida La Plata', 'Avenida de Mayo', 'Boedo', 'Bolivar',\n",
       "       'Callao.B', 'Carabobo', 'Carlos Gardel', 'Carlos Pellegrini',\n",
       "       'Caseros', 'Castro Barros', 'Catalinas', 'Congreso',\n",
       "       'Constitucion', 'Cordoba', 'Correo Central', 'Corrientes',\n",
       "       'Diagonal Norte', 'Dorrego', 'Echeverria', 'Emilio Mitre',\n",
       "       'Entre Rios', 'Facultad de Derecho', 'Federico Lacroze', 'Flores',\n",
       "       'Florida', 'General Belgrano', 'General San Martin', 'Hospitales',\n",
       "       'Humberto I', 'Inclan', 'Independencia', 'Independencia.H',\n",
       "       'Jose Maria Moreno', 'Jujuy', 'Las Heras', 'Lavalle',\n",
       "       'Leandro N. Alem', 'Lima', 'Loria', 'Los Incas', 'Malabia',\n",
       "       'Mariano Moreno', 'Medalla Milagrosa', 'Medrano',\n",
       "       'Ministro Carranza', 'Once', 'Pasco', 'Pasteur', 'Patricios',\n",
       "       'Peru', 'Pichincha', 'Piedras', 'Plaza Italia', 'Plaza Miserere',\n",
       "       'Plaza de Mayo', 'Primera Junta', 'Puan', 'Pueyrredon',\n",
       "       'Pza. de los Virreyes', 'Retiro', 'Retiro E', 'Rio de Janeiro',\n",
       "       'Rosas', 'Saenz Pena ', 'San Jose', 'San Juan', 'San Pedrito',\n",
       "       'Santa Fe', 'Tronador', 'Urquiza', 'Uruguay', 'Varela',\n",
       "       'Venezuela', 'Catedral', 'Congreso de Tucuman', 'Jose Hernandez',\n",
       "       'Palermo', 'Scalabrini Ortiz', 'Juramento', 'Pueyrredon.D',\n",
       "       'Bulnes', 'Olleros', '9 de julio', 'Callao', 'Tribunales',\n",
       "       'Facultad de Medicina'], dtype=object)"
      ]
     },
     "execution_count": 16,
     "metadata": {},
     "output_type": "execute_result"
    }
   ],
   "source": [
    "df['station'].unique()"
   ]
  },
  {
   "cell_type": "markdown",
   "metadata": {},
   "source": [
    "Now that you've seen some characteristics of the dataset, you want to sort it by `line` and `pax_TOTAL` so you can analyze the busiest times in each subway line."
   ]
  },
  {
   "cell_type": "markdown",
   "metadata": {},
   "source": [
    "<div style=\"background-color: #C6E2FF; color: #1a1a1a; padding: 10px; border-radius: 3px; box-shadow: 0 2px 4px rgba(0, 0, 0, 0.1); width:95%\n",
    "\">\n",
    "    <strong>▶▶▶ Directions</strong> \n",
    "        <ol>\n",
    "            <li>Define a <code>columns</code> variable to hold the list of features that you want to sort the dataset by. These will be by <code>line</code> first, then <code>pax_TOTAL</code>.\n",
    "            <li>Define an <code>order</code> variable to contain boolean values. These will specify if you will sort a feature in ascending order or not. You will sort <code>line</code> <b>ascending</b>, then <code>pax_TOTAL</code> <b>descending</b>.\n",
    "            <li>Use the <code>sort_values()</code> method to sort the <df> DataFrame by the columns in the orders you specified. Store the result in <code>df_sorted</code></li>\n",
    "        </ol>\n",
    "</div>"
   ]
  },
  {
   "cell_type": "code",
   "execution_count": 28,
   "metadata": {},
   "outputs": [
    {
     "data": {
      "text/html": [
       "<div>\n",
       "<style scoped>\n",
       "    .dataframe tbody tr th:only-of-type {\n",
       "        vertical-align: middle;\n",
       "    }\n",
       "\n",
       "    .dataframe tbody tr th {\n",
       "        vertical-align: top;\n",
       "    }\n",
       "\n",
       "    .dataframe thead th {\n",
       "        text-align: right;\n",
       "    }\n",
       "</style>\n",
       "<table border=\"1\" class=\"dataframe\">\n",
       "  <thead>\n",
       "    <tr style=\"text-align: right;\">\n",
       "      <th></th>\n",
       "      <th>date</th>\n",
       "      <th>hour</th>\n",
       "      <th>station</th>\n",
       "      <th>line</th>\n",
       "      <th>pax_TOTAL</th>\n",
       "    </tr>\n",
       "  </thead>\n",
       "  <tbody>\n",
       "    <tr>\n",
       "      <th>40234</th>\n",
       "      <td>2024-03-26</td>\n",
       "      <td>8</td>\n",
       "      <td>San Pedrito</td>\n",
       "      <td>A</td>\n",
       "      <td>4252</td>\n",
       "    </tr>\n",
       "    <tr>\n",
       "      <th>32079</th>\n",
       "      <td>2024-03-21</td>\n",
       "      <td>8</td>\n",
       "      <td>San Pedrito</td>\n",
       "      <td>A</td>\n",
       "      <td>4179</td>\n",
       "    </tr>\n",
       "    <tr>\n",
       "      <th>28713</th>\n",
       "      <td>2024-03-19</td>\n",
       "      <td>8</td>\n",
       "      <td>San Pedrito</td>\n",
       "      <td>A</td>\n",
       "      <td>4169</td>\n",
       "    </tr>\n",
       "    <tr>\n",
       "      <th>41920</th>\n",
       "      <td>2024-03-27</td>\n",
       "      <td>8</td>\n",
       "      <td>San Pedrito</td>\n",
       "      <td>A</td>\n",
       "      <td>4099</td>\n",
       "    </tr>\n",
       "    <tr>\n",
       "      <th>38548</th>\n",
       "      <td>2024-03-25</td>\n",
       "      <td>8</td>\n",
       "      <td>San Pedrito</td>\n",
       "      <td>A</td>\n",
       "      <td>4081</td>\n",
       "    </tr>\n",
       "  </tbody>\n",
       "</table>\n",
       "</div>"
      ],
      "text/plain": [
       "             date  hour      station line  pax_TOTAL\n",
       "40234  2024-03-26     8  San Pedrito    A       4252\n",
       "32079  2024-03-21     8  San Pedrito    A       4179\n",
       "28713  2024-03-19     8  San Pedrito    A       4169\n",
       "41920  2024-03-27     8  San Pedrito    A       4099\n",
       "38548  2024-03-25     8  San Pedrito    A       4081"
      ]
     },
     "execution_count": 28,
     "metadata": {},
     "output_type": "execute_result"
    }
   ],
   "source": [
    "### START CODE HERE ###\n",
    "\n",
    "# Create a list of strings to hold two features: 'line' and 'pax_TOTAL'.\n",
    "columns = ['line', 'pax_TOTAL']\n",
    "\n",
    "# Create a list of booleans to specify the sorting order. 'line' is ascending, 'pax_TOTAL' is descending.\n",
    "order = [True, False]\n",
    "\n",
    "# Sort the dataframe by the columns and order you specified.\n",
    "df_sorted = df.sort_values(by=columns, ascending=order)\n",
    "\n",
    "### END CODE HERE ###\n",
    "\n",
    "# Preview the results\n",
    "df_sorted.head()"
   ]
  },
  {
   "cell_type": "markdown",
   "metadata": {},
   "source": [
    "## Step II-2: Filter a subway line\n",
    "\n",
    "Now that you have the sorted dataset, you can filter a subway line and it will return a sorted dataset by total passengers.\n",
    "\n",
    "For this exercise, you will filter line `E`."
   ]
  },
  {
   "cell_type": "markdown",
   "metadata": {},
   "source": [
    "<div style=\"background-color: #C6E2FF; color: #1a1a1a; padding: 10px; border-radius: 3px; box-shadow: 0 2px 4px rgba(0, 0, 0, 0.1); width:95%\n",
    "\">\n",
    "    <strong>▶▶▶ Directions</strong> \n",
    "        <ol>\n",
    "            <li>Filter <code>df_sorted</code> for data points that are in <b>line E</b>.\n",
    "        </ol>\n",
    "</div>"
   ]
  },
  {
   "cell_type": "code",
   "execution_count": 54,
   "metadata": {},
   "outputs": [
    {
     "name": "stdout",
     "output_type": "stream",
     "text": [
      "number of rows:  10135\n",
      "stations in this DataFrame:  ['Independencia.H' 'Bolivar' 'Pza. de los Virreyes' 'Catalinas'\n",
      " 'Correo Central' 'General Belgrano' 'Avenida La Plata' 'Emilio Mitre'\n",
      " 'Jose Maria Moreno' 'Retiro E' 'Boedo' 'Urquiza' 'San Jose' 'Entre Rios'\n",
      " 'Varela' 'Medalla Milagrosa' 'Pichincha' 'Jujuy']\n"
     ]
    }
   ],
   "source": [
    "# You can change this later if you want. You can choose from: [A, B, C, D, E, H].\n",
    "line = 'E'\n",
    "\n",
    "### START CODE HERE ###\n",
    "\n",
    "# Filter `df_sorted` for rows that match the line specified\n",
    "df_filter_line = df_sorted[df_sorted['line'] == line]\n",
    "\n",
    "### END CODE HERE\n",
    "\n",
    "print(\"number of rows: \", len(df_filter_line))\n",
    "print(\"stations in this DataFrame: \", df_filter_line['station'].unique())"
   ]
  },
  {
   "cell_type": "markdown",
   "metadata": {},
   "source": [
    "\n",
    "<summary style=\"background-color: #c6e2ff6c; padding: 10px; border-radius: 3px; box-shadow: 0 2px 4px rgba(0, 0, 0, 0.01); width: 95%; text-align: left; cursor: pointer; font-weight: bold;\">\n",
    "Expected output:</summary> \n",
    "\n",
    "```text\n",
    "number of rows: 10135\n",
    "\n",
    "stations in this DataFrame:\n",
    "['Independencia.H' 'Bolivar' 'Pza. de los Virreyes' 'Catalinas'\n",
    " 'Correo Central' 'General Belgrano' 'Avenida La Plata' 'Emilio Mitre'\n",
    " 'Jose Maria Moreno' 'Retiro E' 'Boedo' 'Urquiza' 'San Jose' 'Entre Rios'\n",
    " 'Varela' 'Medalla Milagrosa' 'Pichincha' 'Jujuy']\n",
    "```\n",
    "\n"
   ]
  },
  {
   "cell_type": "markdown",
   "metadata": {},
   "source": [
    "If you look at the resulting DataFrame, every row should have the `line` column equals `E`."
   ]
  },
  {
   "cell_type": "code",
   "execution_count": 32,
   "metadata": {},
   "outputs": [
    {
     "data": {
      "text/html": [
       "<div>\n",
       "<style scoped>\n",
       "    .dataframe tbody tr th:only-of-type {\n",
       "        vertical-align: middle;\n",
       "    }\n",
       "\n",
       "    .dataframe tbody tr th {\n",
       "        vertical-align: top;\n",
       "    }\n",
       "\n",
       "    .dataframe thead th {\n",
       "        text-align: right;\n",
       "    }\n",
       "</style>\n",
       "<table border=\"1\" class=\"dataframe\">\n",
       "  <thead>\n",
       "    <tr style=\"text-align: right;\">\n",
       "      <th></th>\n",
       "      <th>date</th>\n",
       "      <th>hour</th>\n",
       "      <th>station</th>\n",
       "      <th>line</th>\n",
       "      <th>pax_TOTAL</th>\n",
       "    </tr>\n",
       "  </thead>\n",
       "  <tbody>\n",
       "    <tr>\n",
       "      <th>4</th>\n",
       "      <td>2024-03-01</td>\n",
       "      <td>5</td>\n",
       "      <td>Avenida La Plata</td>\n",
       "      <td>E</td>\n",
       "      <td>26</td>\n",
       "    </tr>\n",
       "    <tr>\n",
       "      <th>6</th>\n",
       "      <td>2024-03-01</td>\n",
       "      <td>5</td>\n",
       "      <td>Boedo</td>\n",
       "      <td>E</td>\n",
       "      <td>32</td>\n",
       "    </tr>\n",
       "    <tr>\n",
       "      <th>7</th>\n",
       "      <td>2024-03-01</td>\n",
       "      <td>5</td>\n",
       "      <td>Bolivar</td>\n",
       "      <td>E</td>\n",
       "      <td>12</td>\n",
       "    </tr>\n",
       "    <tr>\n",
       "      <th>14</th>\n",
       "      <td>2024-03-01</td>\n",
       "      <td>5</td>\n",
       "      <td>Catalinas</td>\n",
       "      <td>E</td>\n",
       "      <td>8</td>\n",
       "    </tr>\n",
       "    <tr>\n",
       "      <th>18</th>\n",
       "      <td>2024-03-01</td>\n",
       "      <td>5</td>\n",
       "      <td>Correo Central</td>\n",
       "      <td>E</td>\n",
       "      <td>19</td>\n",
       "    </tr>\n",
       "  </tbody>\n",
       "</table>\n",
       "</div>"
      ],
      "text/plain": [
       "          date  hour           station line  pax_TOTAL\n",
       "4   2024-03-01     5  Avenida La Plata    E         26\n",
       "6   2024-03-01     5             Boedo    E         32\n",
       "7   2024-03-01     5           Bolivar    E         12\n",
       "14  2024-03-01     5         Catalinas    E          8\n",
       "18  2024-03-01     5    Correo Central    E         19"
      ]
     },
     "execution_count": 32,
     "metadata": {},
     "output_type": "execute_result"
    }
   ],
   "source": [
    "# Preview the result\n",
    "df_filter_line.head()"
   ]
  },
  {
   "cell_type": "markdown",
   "metadata": {},
   "source": [
    "## Step II-3: Select top rows\n",
    "\n",
    "You only want the most crowded times so you need to reduce the dataset. \n",
    "\n",
    "There are many ways to do this but for this exercise, you will practice slicing the dataset to select a range of rows.\n",
    "\n",
    "<div style=\"background-color: #C6E2FF; color: #1a1a1a; padding: 10px; border-radius: 3px; box-shadow: 0 2px 4px rgba(0, 0, 0, 0.1); width:95%\n",
    "\">\n",
    "    <strong>▶▶▶ Directions</strong> \n",
    "        <ol>\n",
    "            <li>Use the <code>iloc()</code> method on <code>df_filter_line</code> to slice the first 500 rows. Assign the result to the <code>df_sliced</code> variable. (<i>Note: You know you can also do this with <code>head()</code> but avoid doing that for now.</i>)\n",
    "        </ol>\n",
    "</div>"
   ]
  },
  {
   "cell_type": "code",
   "execution_count": 55,
   "metadata": {},
   "outputs": [
    {
     "name": "stdout",
     "output_type": "stream",
     "text": [
      "number of rows:  500\n",
      "stations in this DataFrame:  ['Independencia.H' 'Bolivar' 'Pza. de los Virreyes' 'Catalinas'\n",
      " 'Correo Central' 'General Belgrano' 'Avenida La Plata' 'Emilio Mitre'\n",
      " 'Jose Maria Moreno' 'Retiro E' 'Boedo']\n"
     ]
    }
   ],
   "source": [
    "### START CODE HERE ###\n",
    "\n",
    "# Slice the first 500 rows.\n",
    "df_sliced = df_filter_line.iloc[:500]\n",
    "\n",
    "### END CODE HERE ###\n",
    "\n",
    "print(\"number of rows: \", len(df_sliced))\n",
    "print(\"stations in this DataFrame: \", df_sliced['station'].unique())"
   ]
  },
  {
   "cell_type": "markdown",
   "metadata": {},
   "source": [
    "\n",
    "<summary style=\"background-color: #c6e2ff6c; padding: 10px; border-radius: 3px; box-shadow: 0 2px 4px rgba(0, 0, 0, 0.01); width: 95%; text-align: left; cursor: pointer; font-weight: bold;\">\n",
    "Expected output:</summary> \n",
    "<br>\n",
    "\n",
    "```text\n",
    "number of rows: 500\n",
    "\n",
    "stations in this DataFrame:\n",
    "['Independencia.H' 'Bolivar' 'Pza. de los Virreyes' 'Catalinas'\n",
    " 'Correo Central' 'General Belgrano' 'Avenida La Plata' 'Emilio Mitre'\n",
    " 'Jose Maria Moreno' 'Retiro E' 'Boedo']\n",
    "```\n",
    "\n",
    "\n"
   ]
  },
  {
   "cell_type": "markdown",
   "metadata": {},
   "source": [
    "## Step II-4: Filter rush hours\n",
    "\n",
    "Now you have a subset of the data containing the top 500 data points by total number of passengers. \n",
    "\n",
    "If you want to know what times these usually occur, you can plot a histogram of the 'hour' feature and see which hours have the highest peaks."
   ]
  },
  {
   "cell_type": "code",
   "execution_count": 47,
   "metadata": {},
   "outputs": [
    {
     "data": {
      "text/plain": [
       "<Axes: >"
      ]
     },
     "execution_count": 47,
     "metadata": {},
     "output_type": "execute_result"
    },
    {
     "data": {
      "image/png": "[encoded data removed]",
      "text/plain": [
       "<Figure size 640x480 with 1 Axes>"
      ]
     },
     "metadata": {},
     "output_type": "display_data"
    }
   ],
   "source": [
    "# Visualize when the busiest times occur\n",
    "df_sliced['hour'].hist(bins=24)"
   ]
  },
  {
   "cell_type": "markdown",
   "metadata": {},
   "source": [
    "The chart show several peaks and you want to focus on the afternoon rush hour between 16:00 to 18:00.\n",
    "\n",
    "<div style=\"background-color: #C6E2FF; color: #1a1a1a; padding: 10px; border-radius: 3px; box-shadow: 0 2px 4px rgba(0, 0, 0, 0.1); width:95%\n",
    "\">\n",
    "    <strong>▶▶▶ Directions</strong> \n",
    "        <ol>\n",
    "            <li>Filter <code>df_sliced</code> by two conditions: 'hour' should be greater than or equal to 16, and should be less than or equal to 18. Assign the result to the <code>df_filter_pm</code> variable.\n",
    "        </ol>\n",
    "</div>"
   ]
  },
  {
   "cell_type": "code",
   "execution_count": 60,
   "metadata": {},
   "outputs": [
    {
     "name": "stdout",
     "output_type": "stream",
     "text": [
      "number of rows:  223\n",
      "stations in this DataFrame:  ['Bolivar' 'Independencia.H' 'Catalinas' 'Correo Central'\n",
      " 'General Belgrano' 'Retiro E']\n"
     ]
    }
   ],
   "source": [
    "### START CODE HERE ###\n",
    "\n",
    "# Filter `df_sliced` for 'hour' greater than or equal to 16, and less than or equal to 18.\n",
    "df_filter_pm = df_sliced[(df_sliced['hour'] >= 16) & (df_sliced['hour'] <= 18)]\n",
    "\n",
    "### END CODE HERE ###\n",
    "\n",
    "print(\"number of rows: \", len(df_filter_pm))\n",
    "print(\"stations in this DataFrame: \", df_filter_pm['station'].unique())"
   ]
  },
  {
   "cell_type": "markdown",
   "metadata": {},
   "source": [
    "\n",
    "<summary style=\"background-color: #c6e2ff6c; padding: 10px; border-radius: 3px; box-shadow: 0 2px 4px rgba(0, 0, 0, 0.01); width: 95%; text-align: left; cursor: pointer; font-weight: bold;\">\n",
    "Expected output:</summary> \n",
    "<br>\n",
    "\n",
    "```text\n",
    "number of rows: 223\n",
    "\n",
    "stations in this DataFrame:\n",
    "['Bolivar' 'Independencia.H' 'Catalinas' 'Correo Central'\n",
    " 'General Belgrano' 'Retiro E']\n",
    "```\n",
    "\n",
    "\n"
   ]
  },
  {
   "cell_type": "markdown",
   "metadata": {},
   "source": [
    "Great! Now you see these 6 stations are the busiest based on the criteria you specified. \n",
    "\n",
    "You can recommend these to your stakeholders as the ones needing the most attention during these hours. 🤓"
   ]
  },
  {
   "cell_type": "markdown",
   "metadata": {},
   "source": [
    "# Part III: Descriptive Statistics"
   ]
  },
  {
   "cell_type": "markdown",
   "metadata": {},
   "source": [
    "## Step III-1: Filter the data\n"
   ]
  },
  {
   "cell_type": "markdown",
   "metadata": {},
   "source": [
    "You want to calculate numbers for extreme conditions so you decide to filter the dataset.\n",
    "\n",
    "<div style=\"background-color: #C6E2FF; color: #1a1a1a; padding: 10px; border-radius: 3px; box-shadow: 0 2px 4px rgba(0, 0, 0, 0.1); width:95%\n",
    "\">\n",
    "    \n",
    "**▶▶▶ Directions**\n",
    "1. Use your `df` DataFrame from `Part II`. \n",
    "1. Use the `quantile()` method to get the 0.95 quantile of the `pax_TOTAL`. Store it in the <code>pax_95q</code> variable.\n",
    "\n",
    "</div>"
   ]
  },
  {
   "cell_type": "code",
   "execution_count": 76,
   "metadata": {},
   "outputs": [
    {
     "name": "stdout",
     "output_type": "stream",
     "text": [
      "rows in this dataset: 2461\n"
     ]
    }
   ],
   "source": [
    "### START CODE HERE ###\n",
    "\n",
    "# Get the 95th percentile of the total passengers\n",
    "pax_95q = df['pax_TOTAL'].quantile(.95)\n",
    "\n",
    "### END CODE HERE ###\n",
    "\n",
    "# Filter the dataset\n",
    "df_95q = df[df[\"pax_TOTAL\"] > pax_95q]\n",
    "\n",
    "# Sort the dataset\n",
    "df_95q = df_95q.sort_values(by=\"pax_TOTAL\", ascending=False)\n",
    "\n",
    "# Print the number of rows\n",
    "print(\"rows in this dataset:\",len(df_95q))"
   ]
  },
  {
   "cell_type": "markdown",
   "metadata": {},
   "source": [
    "\n",
    "<summary style=\"background-color: #c6e2ff6c; padding: 10px; border-radius: 3px; box-shadow: 0 2px 4px rgba(0, 0, 0, 0.01); width: 95%; text-align: left; cursor: pointer; font-weight: bold;\">\n",
    "Expected output:</summary> \n",
    "<br>\n",
    "\n",
    "```txt\n",
    "rows in this dataset: 2461\n",
    "```\n",
    "\n",
    "\n"
   ]
  },
  {
   "cell_type": "markdown",
   "metadata": {},
   "source": [
    "## Step III-2: Descriptive statistics\n",
    "\n",
    "Now you calculate some numbers to see how many passengers are in these busy conditions.\n",
    "\n",
    "<a id=\"do-it-yourself\"></a>\n",
    "\n",
    "<div style=\"background-color: #C6E2FF; color: #1a1a1a; padding: 10px; border-radius: 3px; box-shadow: 0 2px 4px rgba(0, 0, 0, 0.1); width:95%\n",
    "\">\n",
    "\n",
    "**▶▶▶ Directions** \n",
    "1. Find the mean of total passengers in the <code>df_95q</code> DataFrame.\n",
    "2. Find the median of total passengers in the <code>df_95q</code> DataFrame.\n",
    "3. Find the maximum number of passengers in the <code>df_95q</code> DataFrame.\n",
    "4. Find the standard deviation of passengers in the <code>df_95q</code> DataFrame.\n",
    "</div>\n",
    "\n"
   ]
  },
  {
   "cell_type": "code",
   "execution_count": 80,
   "metadata": {},
   "outputs": [
    {
     "name": "stdout",
     "output_type": "stream",
     "text": [
      "The mean pax is: 2034.19179195449\n",
      "The median pax is: 1580.0\n",
      "The max pax is: 13651\n",
      "The standard deviation is: 1429.2539690049282\n"
     ]
    }
   ],
   "source": [
    "### START CODE HERE ###\n",
    "\n",
    "# find the sum, mean, and standard deviation of pax_TOTAL\n",
    "pax_mean = df_95q['pax_TOTAL'].mean()\n",
    "pax_median = df_95q['pax_TOTAL'].median()\n",
    "pax_max = df_95q['pax_TOTAL'].max()\n",
    "pax_std = df_95q['pax_TOTAL'].std()\n",
    "\n",
    "### END CODE HERE ###\n",
    "\n",
    "print(\"The mean pax is:\", pax_mean)\n",
    "print(\"The median pax is:\", pax_median)\n",
    "print(\"The max pax is:\", pax_max)\n",
    "print(\"The standard deviation is:\", pax_std)"
   ]
  },
  {
   "cell_type": "markdown",
   "metadata": {},
   "source": [
    "\n",
    "<summary style=\"background-color: #c6e2ff6c; padding: 10px; border-radius: 3px; box-shadow: 0 2px 4px rgba(0, 0, 0, 0.01); width: 95%; text-align: left; cursor: pointer; font-weight: bold;\">\n",
    "Expected output:</summary> \n",
    "<br>\n",
    "\n",
    "```txt\n",
    "The mean pax is: 2034.19179195449\n",
    "The median pax is: 1580.0\n",
    "The max pax is: 13651\n",
    "The standard deviation is: 1429.2539690049282\n",
    "```\n",
    "\n",
    "\n"
   ]
  },
  {
   "cell_type": "markdown",
   "metadata": {},
   "source": [
    "## Step III-3: Plot the station counts\n",
    "\n",
    "You want to know the top stations that encounter this kind of passenger traffic.\n",
    "\n",
    "<a id=\"do-it-yourself\"></a>\n",
    "\n",
    "<div style=\"background-color: #C6E2FF; color: #1a1a1a; padding: 10px; border-radius: 3px; box-shadow: 0 2px 4px rgba(0, 0, 0, 0.1); width:95%\n",
    "\">\n",
    "\n",
    "**▶▶▶ Directions** \n",
    "1. Use the <code>value_counts()</code> on the 'station' column of the <code>df_95q</code> DataFrame.\n",
    "2. Use the <code>head()</code> method to get the top 10 results.\n",
    "3. Use the <code>plot(kind=\"bar\")</code> method to display the results as a bar chart.\n",
    "</div>\n",
    "\n"
   ]
  },
  {
   "cell_type": "code",
   "execution_count": 82,
   "metadata": {},
   "outputs": [
    {
     "data": {
      "text/plain": [
       "<Axes: xlabel='station'>"
      ]
     },
     "execution_count": 82,
     "metadata": {},
     "output_type": "execute_result"
    },
    {
     "data": {
      "image/png": "[encoded data removed]",
      "text/plain": [
       "<Figure size 640x480 with 1 Axes>"
      ]
     },
     "metadata": {},
     "output_type": "display_data"
    }
   ],
   "source": [
    "### START CODE HERE ###\n",
    "\n",
    "# Get the value counts per station\n",
    "station_counts = df_95q['station'].value_counts()\n",
    "\n",
    "# Get the top 10 results\n",
    "station_counts_10 = station_counts.head(10)\n",
    "\n",
    "# Plot the top 10 results\n",
    "station_counts_10.plot()\n",
    "\n",
    "### END CODE HERE ###"
   ]
  },
  {
   "cell_type": "markdown",
   "metadata": {},
   "source": [
    "\n",
    "## Step III-4: Statistics per station\n",
    "\n",
    "Next, you want to plot some statistics segmented per station. You will calculate the mean and return the results as a series. \n",
    "\n",
    "<a id=\"do-it-yourself\"></a>\n",
    "\n",
    "<div style=\"background-color: #C6E2FF; color: #1a1a1a; padding: 10px; border-radius: 3px; box-shadow: 0 2px 4px rgba(0, 0, 0, 0.1); width:95%\n",
    "\">\n",
    "\n",
    "**▶▶▶ Directions** \n",
    "1. Use the <code>groupby()</code> method to segment the data by 'station' of the <code>df_95q</code> DataFrame. Store the results in <code>grouped_by_station</code>\n",
    "2. Use the <code>mean()</code> method on the 'pax_TOTAL' column of the <code>grouped_by_station</code> object. Store the results in <code>mean_per_station</code>\n",
    "</div>"
   ]
  },
  {
   "cell_type": "code",
   "execution_count": null,
   "metadata": {},
   "outputs": [],
   "source": [
    "### START CODE HERE ###\n",
    "\n",
    "# Segment the data by station\n",
    "grouped_by_station = df_95q.groupby(by='station')\n",
    "\n",
    "# Calculate the mean of the 'pax_TOTAL' column per station\n",
    "mean_per_station = None\n",
    "\n",
    "### END CODE HERE\n",
    "\n",
    "# Sort the results and only print the top 10\n",
    "mean_per_station.sort_values(ascending=False).head(10)"
   ]
  },
  {
   "cell_type": "markdown",
   "metadata": {},
   "source": [
    "\n",
    "<summary style=\"background-color: #c6e2ff6c; padding: 10px; border-radius: 3px; box-shadow: 0 2px 4px rgba(0, 0, 0, 0.01); width: 95%; text-align: left; cursor: pointer; font-weight: bold;\">\n",
    "Expected output:</summary> \n",
    "<br>\n",
    "\n",
    "```txt\n",
    "station\n",
    "Constitucion        3603.701456\n",
    "Catedral            2134.927536\n",
    "Plaza de Mayo       2067.885714\n",
    "Retiro              1991.120968\n",
    "Rosas               1982.820000\n",
    "San Pedrito         1926.078704\n",
    "Saenz Pena          1910.250000\n",
    "Hospitales          1892.000000\n",
    "Leandro N. Alem     1888.698413\n",
    "Federico Lacroze    1830.571429\n",
    "Name: pax_TOTAL, dtype: float64\n",
    "```\n",
    "\n"
   ]
  }
 ],
 "metadata": {
  "kernelspec": {
   "display_name": ".venv",
   "language": "python",
   "name": "python3"
  },
  "language_info": {
   "codemirror_mode": {
    "name": "ipython",
    "version": 3
   },
   "file_extension": ".py",
   "mimetype": "text/x-python",
   "name": "python",
   "nbconvert_exporter": "python",
   "pygments_lexer": "ipython3",
   "version": "3.13.7"
  }
 },
 "nbformat": 4,
 "nbformat_minor": 4
}
