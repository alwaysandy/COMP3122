{
 "cells": [
  {
   "cell_type": "markdown",
   "id": "181f409d",
   "metadata": {},
   "source": [
    "# Lab2: Python Recap"
   ]
  },
  {
   "cell_type": "markdown",
   "id": "7ec5fbbb",
   "metadata": {},
   "source": [
    "## 1. Contains Duplicate"
   ]
  },
  {
   "cell_type": "markdown",
   "id": "af12119e",
   "metadata": {},
   "source": [
    "Given an integer array `nums`, return `true` if any value appears at least twice in the array, and return `false` if every element is distinct.\n",
    "\n",
    "https://leetcode.com/problems/contains-duplicate/description/"
   ]
  },
  {
   "cell_type": "code",
   "execution_count": null,
   "id": "a34febd2",
   "metadata": {},
   "outputs": [],
   "source": []
  },
  {
   "cell_type": "code",
   "execution_count": null,
   "id": "d0913a5d",
   "metadata": {},
   "outputs": [
    {
     "name": "stdout",
     "output_type": "stream",
     "text": [
      "True\n",
      "True\n",
      "False\n"
     ]
    }
   ],
   "source": [
    "# The instructions and code comments have different outputs\n",
    "# To get the expected output from the comment I would return\n",
    "# seen_numbers set :-)\n",
    "def repeating_elements(nums):\n",
    "    seen_numbers = set()\n",
    "    for n in nums:\n",
    "        if n in seen_numbers:\n",
    "            return True\n",
    "        seen_numbers.add(n)\n",
    "    return False\n",
    "\n",
    "print(repeating_elements([9, 8, 7, 8, 7, 6, 5]))  # expected output : [8, 7]\n",
    "print(repeating_elements([-1, 2, 3, -1, 2, 3]))   # expected output : [-1, 2, 3]\n",
    "print(repeating_elements([1, 2, 3, 4, 5]))        # expected output : []"
   ]
  },
  {
   "cell_type": "markdown",
   "id": "483afe49",
   "metadata": {},
   "source": [
    "## 2. Valid Anagram"
   ]
  },
  {
   "cell_type": "markdown",
   "id": "92b8f85c",
   "metadata": {},
   "source": [
    "An `anagram` is a word or phrase formed by rearranging the letters of a different word or phrase, using all the original letters exactly once.\n",
    "\n",
    "https://leetcode.com/problems/valid-anagram/description/\n",
    "\n",
    "**Notes:** \n",
    "- `s` and `t` consist of lowercase English letters.\n",
    "- Do not use built-in functions like `sorted()` or `collections.Counter()` to solve this problem."
   ]
  },
  {
   "cell_type": "code",
   "execution_count": null,
   "id": "d9195873",
   "metadata": {},
   "outputs": [
    {
     "name": "stdout",
     "output_type": "stream",
     "text": [
      "True\n",
      "False\n"
     ]
    }
   ],
   "source": [
    "def isAnagram(s, t):\n",
    "    if len(s) != len(t):\n",
    "            return False\n",
    "    char_count = [0 for _ in range(26)]\n",
    "    for i in range(len(s)):\n",
    "        # 97 is the ascii code for lowercase 'a'\n",
    "        char_count[ord(s[i]) - 97] += 1\n",
    "        char_count[ord(t[i]) - 97] -= 1\n",
    "    for n in char_count:\n",
    "        if n != 0:\n",
    "            return False\n",
    "    return True\n",
    "\n",
    "print(isAnagram(\"anagram\", \"nagaram\")) # expected output : True\n",
    "print(isAnagram(\"rat\", \"car\"))       # expected output : False"
   ]
  },
  {
   "cell_type": "markdown",
   "id": "2e056654",
   "metadata": {},
   "source": [
    "## 3. Two Sum"
   ]
  },
  {
   "cell_type": "markdown",
   "id": "89b078b5",
   "metadata": {},
   "source": [
    "Given an array of integers `nums` and an integer `target`, return indices of the two numbers such that they add up to `target`.\n",
    "\n",
    "https://leetcode.com/problems/two-sum/description/\n",
    "\n",
    "**Notes:**\n",
    "\n",
    "- You may assume that each input would have exactly one solution, and you may not use the same element twice.\n",
    "\n",
    "- You can return the answer in any order.\n",
    "\n"
   ]
  },
  {
   "cell_type": "code",
   "execution_count": 12,
   "id": "d2bce3de",
   "metadata": {},
   "outputs": [
    {
     "name": "stdout",
     "output_type": "stream",
     "text": [
      "[0, 1]\n",
      "[1, 2]\n",
      "[0, 1]\n"
     ]
    }
   ],
   "source": [
    "def twoSum(nums, target):\n",
    "    for i in range(len(nums) - 1):\n",
    "        for j in range(i + 1, len(nums)):\n",
    "            if nums[i] + nums[j] == target:\n",
    "                    return [i, j]\n",
    "\n",
    "print(twoSum([2,7,11,15], 9)) # expected output : [0, 1]\n",
    "print(twoSum([3,2,4], 6))     # expected output : [1, 2]\n",
    "print(twoSum([3,3], 6))       # expected output : [0, 1]"
   ]
  },
  {
   "cell_type": "markdown",
   "id": "899dd851",
   "metadata": {},
   "source": [
    "## 4. Frequent Words Finder\n",
    "Imagine working with large documents, such as news articles, thesis manuscripts, or even books. Identifying the most common words could give us an overview of the main themes or topics in the text.\n",
    "\n",
    "Given a large body of text, we need to identify the three most frequently occurring words. \n",
    "\n",
    "**Notes:**\n",
    "- Not case-sensitive (e.g., \"The\" and \"the\" are the same word).\n",
    "\n",
    "**Hint:** \n",
    "- Step 1: Normalize the text by converting it to lowercase.\n",
    "- Step 2: Split the text into words.\n",
    "- Step 3: Count the occurrences of each word.\n",
    "- Step 4: Identify the top three most frequent words. (You'll use this for `KNN` algorithm in the future lessons)\n",
    "\n"
   ]
  },
  {
   "cell_type": "code",
   "execution_count": 35,
   "id": "5f053266",
   "metadata": {},
   "outputs": [
    {
     "name": "stdout",
     "output_type": "stream",
     "text": [
      "[('the', 4), ('sun', 2), ('in', 2)]\n",
      "[('python', 3), ('is', 2), ('learning', 1)]\n",
      "[]\n"
     ]
    }
   ],
   "source": [
    "def frequent_words_finder(text):\n",
    "    if len(text) == 0:\n",
    "        return []\n",
    "    word_frequency = {}\n",
    "    for word in text.lower().split(' '):\n",
    "        if word in word_frequency:\n",
    "            word_frequency[word] += 1\n",
    "        else:\n",
    "            word_frequency[word] = 1\n",
    "    word_frequency = list(word_frequency.items())\n",
    "    sorted_words = sorted(word_frequency, key=lambda n: n[1], reverse=True)\n",
    "    return sorted_words[0:3]\n",
    "\n",
    "print(frequent_words_finder(\"The sun sets in the west, and the sun rises in the east.\"))\n",
    "# expected: [('the', 4), ('sun', 2), ('in', 2)]\n",
    "\n",
    "print(frequent_words_finder(\"Learning Python is fun because Python makes automation easy and Python is everywhere.\"))\n",
    "# expected: [('python', 3), ('is', 2), ('learning', 1)]  \n",
    "\n",
    "print(frequent_words_finder(\"\"))\n",
    "# expected: []"
   ]
  },
  {
   "cell_type": "markdown",
   "id": "be92145e",
   "metadata": {},
   "source": [
    "## 5. Majority Vote "
   ]
  },
  {
   "cell_type": "markdown",
   "id": "0df73ec1",
   "metadata": {},
   "source": [
    "Given a list of integers, our aim is to identify the \"majority element\". The majority element in a list is an element that appears more than n / 2 times. "
   ]
  },
  {
   "cell_type": "code",
   "execution_count": null,
   "id": "8e924772",
   "metadata": {},
   "outputs": [
    {
     "name": "stdout",
     "output_type": "stream",
     "text": [
      "4\n",
      "-1\n",
      "2\n"
     ]
    }
   ],
   "source": [
    "def majority_vote(listA):\n",
    "    vote_count = {}\n",
    "    for vote in listA:\n",
    "        if vote in vote_count:\n",
    "            vote_count[vote] += 1\n",
    "        else:\n",
    "            vote_count[vote] = 1\n",
    "    most_common = max(vote_count, key=vote_count.get)\n",
    "    most_common_votes = vote_count[most_common]\n",
    "    if most_common_votes <= len(listA) / 2:\n",
    "        return -1\n",
    "    else:\n",
    "        return most_common\n",
    "\n",
    "print(majority_vote([3, 3, 4, 2, 4, 4, 2, 4, 4])) # expected output : 4\n",
    "print(majority_vote([3, 3, 4, 2, 4, 4, 2, 4]))    # expected output : -1\n",
    "print(majority_vote([2, 2, 1, 1, 1, 2, 2]))          # expected output : 2"
   ]
  },
  {
   "cell_type": "markdown",
   "id": "8c31b707",
   "metadata": {},
   "source": [
    "## 6. Keyword Index"
   ]
  },
  {
   "cell_type": "markdown",
   "id": "39fd7ff6",
   "metadata": {},
   "source": [
    "We are given a list of strings, with each string representing a document. Our task is to generate an index of all the distinct words in the documents for quick reference. \n",
    "\n",
    "We need to create a dictionary where each unique word is a key, and the corresponding value is a list of indices pointing to the documents where the word can be found."
   ]
  },
  {
   "cell_type": "code",
   "execution_count": 51,
   "id": "1757d015",
   "metadata": {},
   "outputs": [
    {
     "name": "stdout",
     "output_type": "stream",
     "text": [
      "{'hello': [0, 1], 'world': [0, 2], 'there': [1], 'of': [2], 'python': [2]}\n",
      "{'data': [0, 2], 'science': [0], 'machine': [1], 'learning': [1, 3], 'analysis': [2], 'algorithms': [3]}\n",
      "{}\n"
     ]
    }
   ],
   "source": [
    "def keyword_index(docs):\n",
    "    keyword_index = {}\n",
    "    for i, s in enumerate(docs):\n",
    "        for word in s.split(' '):\n",
    "            if word in keyword_index:\n",
    "                keyword_index[word].append(i)\n",
    "            else:\n",
    "                keyword_index[word] = [i]\n",
    "    return keyword_index\n",
    "\n",
    "print(keyword_index([\"hello world\", \"hello there\", \"world of python\"]))\n",
    "# expected output : {'hello': [0, 1], 'world': [0, 2], 'there': [1], 'of': [2], 'python': [2]}\n",
    "\n",
    "print(keyword_index([\"data science\", \"machine learning\", \"data analysis\", \"learning algorithms\"]))\n",
    "# expected output : {'data': [0, 2], 'science': [0], 'machine': [1], 'learning': [1, 3], 'analysis': [2], 'algorithms': [3]}\n",
    "\n",
    "print(keyword_index([]))\n",
    "# expected output : {}"
   ]
  },
  {
   "cell_type": "code",
   "execution_count": null,
   "id": "681f994b",
   "metadata": {},
   "outputs": [],
   "source": []
  }
 ],
 "metadata": {
  "kernelspec": {
   "display_name": ".venv",
   "language": "python",
   "name": "python3"
  },
  "language_info": {
   "codemirror_mode": {
    "name": "ipython",
    "version": 3
   },
   "file_extension": ".py",
   "mimetype": "text/x-python",
   "name": "python",
   "nbconvert_exporter": "python",
   "pygments_lexer": "ipython3",
   "version": "3.13.7"
  }
 },
 "nbformat": 4,
 "nbformat_minor": 5
}
